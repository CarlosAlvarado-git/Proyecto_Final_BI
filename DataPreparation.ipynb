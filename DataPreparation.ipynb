{
 "cells": [
  {
   "cell_type": "code",
   "execution_count": 2,
   "metadata": {},
   "outputs": [],
   "source": [
    "import pandas as pd\n",
    "import os\n",
    "import psycopg2\n",
    "\n",
    "\n",
    "path = '/Users/carlosalvarado/Desktop/BI/Proyecto_Final_BI/'"
   ]
  },
  {
   "attachments": {},
   "cell_type": "markdown",
   "metadata": {},
   "source": [
    "Lectura de archivos"
   ]
  },
  {
   "cell_type": "code",
   "execution_count": 3,
   "metadata": {},
   "outputs": [
    {
     "name": "stderr",
     "output_type": "stream",
     "text": [
      "/var/folders/nc/msnr18q57_bfryvsdz5vb_w00000gn/T/ipykernel_8179/278177419.py:10: DtypeWarning: Columns (9,12,19) have mixed types. Specify dtype option on import or set low_memory=False.\n",
      "  df = pd.read_csv(filename)\n",
      "/var/folders/nc/msnr18q57_bfryvsdz5vb_w00000gn/T/ipykernel_8179/278177419.py:10: DtypeWarning: Columns (27,64,80,81,82,86,87,88,89,90,91,111,122,123,124,125,147,148) have mixed types. Specify dtype option on import or set low_memory=False.\n",
      "  df = pd.read_csv(filename)\n"
     ]
    }
   ],
   "source": [
    "# función dada en clase\n",
    "def load_data(filename):\n",
    "    \"\"\" Load dataset from filename\n",
    "    Args:\n",
    "        filename (string): Path to data\n",
    "        \n",
    "    Returns:\n",
    "        df (DataFrame): Dataset from file\n",
    "    \"\"\"\n",
    "    df = pd.read_csv(filename)\n",
    "    return df\n",
    "\n",
    "filename = os.path.join(path,'Benefits_Cost_Sharing_PUF.csv')\n",
    "Benefits_CostSharing = load_data(filename)\n",
    "\n",
    "filename = os.path.join(path,'Business_Rules_PUF.csv')\n",
    "Business_Rules = load_data(filename)\n",
    "\n",
    "filename = os.path.join(path,'Plan_Attributes_PUF.csv')\n",
    "Plan_Attributes = load_data(filename)\n",
    "\n",
    "filename = os.path.join(path,'Rate_PUF.csv')\n",
    "Rate = load_data(filename)"
   ]
  },
  {
   "cell_type": "code",
   "execution_count": 4,
   "metadata": {},
   "outputs": [
    {
     "data": {
      "text/plain": [
       "Index(['StateCode', 'IssuerId', 'SourceName', 'StandardComponentId', 'PlanId',\n",
       "       'BenefitName', 'CopayInnTier1', 'CopayInnTier2', 'CopayOutofNet',\n",
       "       'CoinsInnTier1', 'CoinsInnTier2', 'CoinsOutofNet', 'IsEHB', 'IsCovered',\n",
       "       'QuantLimitOnSvc', 'LimitQty', 'LimitUnit', 'Exclusions'],\n",
       "      dtype='object')"
      ]
     },
     "execution_count": 4,
     "metadata": {},
     "output_type": "execute_result"
    }
   ],
   "source": [
    "Benefits_CostSharing = Benefits_CostSharing[['StateCode', 'IssuerId', 'SourceName', 'StandardComponentId', 'PlanId', 'BenefitName', \n",
    "                                            'CopayInnTier1', 'CopayInnTier2', 'CopayOutofNet', 'CoinsInnTier1', 'CoinsInnTier2',\n",
    "                                            'CoinsOutofNet', 'IsEHB', 'IsCovered', 'QuantLimitOnSvc', 'LimitQty','LimitUnit', 'Exclusions']]\n",
    "Benefits_CostSharing.columns"
   ]
  },
  {
   "cell_type": "code",
   "execution_count": 5,
   "metadata": {},
   "outputs": [
    {
     "data": {
      "text/plain": [
       "array(['AK', 'TX', 'AL', 'AZ', 'FL', 'GA', 'IN', 'LA', 'MO', 'MS', 'NC',\n",
       "       'ND', 'OK', 'SC', 'TN', 'WI', 'WY', 'AR', 'DE', 'HI', 'IA', 'IL',\n",
       "       'KS', 'MI', 'MT', 'NE', 'NH', 'OH', 'OR', 'SD', 'UT', 'VA', 'WV'],\n",
       "      dtype=object)"
      ]
     },
     "execution_count": 5,
     "metadata": {},
     "output_type": "execute_result"
    }
   ],
   "source": [
    "Benefits_CostSharing.StateCode.unique()"
   ]
  },
  {
   "cell_type": "code",
   "execution_count": 6,
   "metadata": {},
   "outputs": [
    {
     "data": {
      "text/plain": [
       "Index(['StateCode', 'IssuerId', 'SourceName', 'MedicalDentalBoth',\n",
       "       'StandardComponentId', 'MaximumUnderageDependent',\n",
       "       'DependentMaximumAgRule', 'CohabitationRule', 'MarketCoverage',\n",
       "       'DentalOnlyPlan'],\n",
       "      dtype='object')"
      ]
     },
     "execution_count": 6,
     "metadata": {},
     "output_type": "execute_result"
    }
   ],
   "source": [
    "Business_Rules = Business_Rules[['StateCode', 'IssuerId', 'SourceName', 'MedicalDentalBoth', 'StandardComponentId',\n",
    "                                 'MaximumUnderageDependent','DependentMaximumAgRule','CohabitationRule', 'MarketCoverage',\n",
    "                                 'DentalOnlyPlan']]\n",
    "Business_Rules.columns"
   ]
  },
  {
   "cell_type": "code",
   "execution_count": 7,
   "metadata": {},
   "outputs": [
    {
     "data": {
      "text/plain": [
       "Index(['StateCode', 'IssuerId', 'IssuerMarketPlaceMarketingName', 'SourceName',\n",
       "       'MarketCoverage', 'StandardComponentId', 'PlanMarketingName',\n",
       "       'IsNewPlan', 'PlanType', 'MetalLevel', 'ChildOnlyOffering',\n",
       "       'DiseaseManagementProgramsOffered', 'EHBPercentTotalPremium',\n",
       "       'PlanEffectiveDate', 'PlanExpirationDate', 'PlanId',\n",
       "       'IssuerActuarialValue', 'IsHSAEligible'],\n",
       "      dtype='object')"
      ]
     },
     "execution_count": 7,
     "metadata": {},
     "output_type": "execute_result"
    }
   ],
   "source": [
    "Plan_Attributes = Plan_Attributes[['StateCode', 'IssuerId', 'IssuerMarketPlaceMarketingName', 'SourceName', \n",
    "                                   'MarketCoverage', 'StandardComponentId', 'PlanMarketingName', 'IsNewPlan',\n",
    "                                   'PlanType', 'MetalLevel', 'ChildOnlyOffering', 'DiseaseManagementProgramsOffered',\n",
    "                                   'EHBPercentTotalPremium', 'PlanEffectiveDate', 'PlanExpirationDate', 'PlanId',\n",
    "                                   'IssuerActuarialValue', 'IsHSAEligible']]\n",
    "Plan_Attributes.columns"
   ]
  },
  {
   "cell_type": "code",
   "execution_count": 8,
   "metadata": {},
   "outputs": [
    {
     "data": {
      "text/plain": [
       "Index(['StateCode', 'IssuerId', 'SourceName', 'PlanId', 'RatingAreaId',\n",
       "       'Tobacco', 'Age', 'IndividualRate', 'IndividualTobaccoRate', 'Couple',\n",
       "       'PrimarySubscriberAndOneDependent', 'PrimarySubscriberAndTwoDependents',\n",
       "       'PrimarySubscriberAndThreeOrMoreDependents', 'CoupleAndOneDependent',\n",
       "       'CoupleAndTwoDependents', 'CoupleAndThreeOrMoreDependents'],\n",
       "      dtype='object')"
      ]
     },
     "execution_count": 8,
     "metadata": {},
     "output_type": "execute_result"
    }
   ],
   "source": [
    "Rate = Rate[['StateCode', 'IssuerId', 'SourceName','PlanId', 'RatingAreaId',\n",
    "       'Tobacco', 'Age', 'IndividualRate', 'IndividualTobaccoRate', 'Couple',\n",
    "       'PrimarySubscriberAndOneDependent', 'PrimarySubscriberAndTwoDependents',\n",
    "       'PrimarySubscriberAndThreeOrMoreDependents', 'CoupleAndOneDependent',\n",
    "       'CoupleAndTwoDependents', 'CoupleAndThreeOrMoreDependents' ]]\n",
    "Rate.columns"
   ]
  },
  {
   "attachments": {},
   "cell_type": "markdown",
   "metadata": {},
   "source": [
    "La tabla de Business Rules PUF puede ser el primer filtro"
   ]
  },
  {
   "cell_type": "code",
   "execution_count": 9,
   "metadata": {},
   "outputs": [
    {
     "data": {
      "text/html": [
       "<div>\n",
       "<style scoped>\n",
       "    .dataframe tbody tr th:only-of-type {\n",
       "        vertical-align: middle;\n",
       "    }\n",
       "\n",
       "    .dataframe tbody tr th {\n",
       "        vertical-align: top;\n",
       "    }\n",
       "\n",
       "    .dataframe thead th {\n",
       "        text-align: right;\n",
       "    }\n",
       "</style>\n",
       "<table border=\"1\" class=\"dataframe\">\n",
       "  <thead>\n",
       "    <tr style=\"text-align: right;\">\n",
       "      <th></th>\n",
       "      <th>StateCode</th>\n",
       "      <th>IssuerId</th>\n",
       "      <th>SourceName</th>\n",
       "      <th>MedicalDentalBoth</th>\n",
       "      <th>StandardComponentId</th>\n",
       "      <th>MaximumUnderageDependent</th>\n",
       "      <th>DependentMaximumAgRule</th>\n",
       "      <th>CohabitationRule</th>\n",
       "      <th>MarketCoverage</th>\n",
       "      <th>DentalOnlyPlan</th>\n",
       "    </tr>\n",
       "  </thead>\n",
       "  <tbody>\n",
       "    <tr>\n",
       "      <th>0</th>\n",
       "      <td>AK</td>\n",
       "      <td>21989</td>\n",
       "      <td>HIOS</td>\n",
       "      <td>Dental</td>\n",
       "      <td>21989AK0030001</td>\n",
       "      <td>3</td>\n",
       "      <td>25</td>\n",
       "      <td>Child,No;Foster Child,No;Grandson or Granddaug...</td>\n",
       "      <td>Individual</td>\n",
       "      <td>Yes</td>\n",
       "    </tr>\n",
       "    <tr>\n",
       "      <th>1</th>\n",
       "      <td>AK</td>\n",
       "      <td>21989</td>\n",
       "      <td>HIOS</td>\n",
       "      <td>Dental</td>\n",
       "      <td>21989AK0030051</td>\n",
       "      <td>3</td>\n",
       "      <td>25</td>\n",
       "      <td>Child,No;Foster Child,No;Grandson or Granddaug...</td>\n",
       "      <td>SHOP (Small Group)</td>\n",
       "      <td>Yes</td>\n",
       "    </tr>\n",
       "  </tbody>\n",
       "</table>\n",
       "</div>"
      ],
      "text/plain": [
       "  StateCode  IssuerId SourceName MedicalDentalBoth StandardComponentId   \n",
       "0        AK     21989       HIOS            Dental      21989AK0030001  \\\n",
       "1        AK     21989       HIOS            Dental      21989AK0030051   \n",
       "\n",
       "  MaximumUnderageDependent DependentMaximumAgRule   \n",
       "0                        3                     25  \\\n",
       "1                        3                     25   \n",
       "\n",
       "                                    CohabitationRule      MarketCoverage   \n",
       "0  Child,No;Foster Child,No;Grandson or Granddaug...          Individual  \\\n",
       "1  Child,No;Foster Child,No;Grandson or Granddaug...  SHOP (Small Group)   \n",
       "\n",
       "  DentalOnlyPlan  \n",
       "0            Yes  \n",
       "1            Yes  "
      ]
     },
     "execution_count": 9,
     "metadata": {},
     "output_type": "execute_result"
    }
   ],
   "source": [
    "Business_Rules.head(2)"
   ]
  },
  {
   "cell_type": "code",
   "execution_count": 10,
   "metadata": {},
   "outputs": [
    {
     "data": {
      "text/plain": [
       "array(['AK', 'AL', 'AZ', 'FL', 'GA', 'IN', 'LA', 'MO', 'MS', 'NC', 'OK',\n",
       "       'TX', 'WI', 'IA', 'ND', 'SC', 'TN', 'WY', 'AR', 'DE', 'HI', 'IL',\n",
       "       'NE', 'NH', 'OH', 'KS', 'MI', 'MT', 'OR', 'SD', 'UT', 'VA', 'WV'],\n",
       "      dtype=object)"
      ]
     },
     "execution_count": 10,
     "metadata": {},
     "output_type": "execute_result"
    }
   ],
   "source": [
    "Business_Rules.StateCode.unique()"
   ]
  },
  {
   "cell_type": "code",
   "execution_count": 11,
   "metadata": {},
   "outputs": [],
   "source": [
    "Business_Rules = Business_Rules[(Business_Rules.StateCode == 'TX') & (Business_Rules.DentalOnlyPlan == 'No')]"
   ]
  },
  {
   "cell_type": "code",
   "execution_count": 12,
   "metadata": {},
   "outputs": [],
   "source": [
    "Rate = Rate[Rate.PlanId.isin(Business_Rules.StandardComponentId)]"
   ]
  },
  {
   "cell_type": "code",
   "execution_count": 13,
   "metadata": {},
   "outputs": [],
   "source": [
    "Plan_Attributes = Plan_Attributes[Plan_Attributes.StandardComponentId.isin(Business_Rules.StandardComponentId)]"
   ]
  },
  {
   "cell_type": "code",
   "execution_count": 14,
   "metadata": {},
   "outputs": [],
   "source": [
    "Benefits_CostSharing = Benefits_CostSharing[Benefits_CostSharing.StandardComponentId.isin(Business_Rules.StandardComponentId)]"
   ]
  },
  {
   "cell_type": "code",
   "execution_count": 15,
   "metadata": {},
   "outputs": [
    {
     "data": {
      "text/plain": [
       "(965, 10)"
      ]
     },
     "execution_count": 15,
     "metadata": {},
     "output_type": "execute_result"
    }
   ],
   "source": [
    "Business_Rules.shape"
   ]
  },
  {
   "cell_type": "code",
   "execution_count": 16,
   "metadata": {},
   "outputs": [
    {
     "data": {
      "text/html": [
       "<div>\n",
       "<style scoped>\n",
       "    .dataframe tbody tr th:only-of-type {\n",
       "        vertical-align: middle;\n",
       "    }\n",
       "\n",
       "    .dataframe tbody tr th {\n",
       "        vertical-align: top;\n",
       "    }\n",
       "\n",
       "    .dataframe thead th {\n",
       "        text-align: right;\n",
       "    }\n",
       "</style>\n",
       "<table border=\"1\" class=\"dataframe\">\n",
       "  <thead>\n",
       "    <tr style=\"text-align: right;\">\n",
       "      <th></th>\n",
       "      <th>StateCode</th>\n",
       "      <th>IssuerId</th>\n",
       "      <th>SourceName</th>\n",
       "      <th>MedicalDentalBoth</th>\n",
       "      <th>StandardComponentId</th>\n",
       "      <th>MaximumUnderageDependent</th>\n",
       "      <th>DependentMaximumAgRule</th>\n",
       "      <th>MarketCoverage</th>\n",
       "      <th>DentalOnlyPlan</th>\n",
       "    </tr>\n",
       "  </thead>\n",
       "  <tbody>\n",
       "    <tr>\n",
       "      <th>2190</th>\n",
       "      <td>TX</td>\n",
       "      <td>27248</td>\n",
       "      <td>HIOS</td>\n",
       "      <td>Medical</td>\n",
       "      <td>27248TX0010012</td>\n",
       "      <td>3</td>\n",
       "      <td>25</td>\n",
       "      <td>Individual</td>\n",
       "      <td>No</td>\n",
       "    </tr>\n",
       "    <tr>\n",
       "      <th>2191</th>\n",
       "      <td>TX</td>\n",
       "      <td>27248</td>\n",
       "      <td>HIOS</td>\n",
       "      <td>Medical</td>\n",
       "      <td>27248TX0010013</td>\n",
       "      <td>3</td>\n",
       "      <td>25</td>\n",
       "      <td>Individual</td>\n",
       "      <td>No</td>\n",
       "    </tr>\n",
       "    <tr>\n",
       "      <th>2192</th>\n",
       "      <td>TX</td>\n",
       "      <td>27248</td>\n",
       "      <td>HIOS</td>\n",
       "      <td>Medical</td>\n",
       "      <td>27248TX0010016</td>\n",
       "      <td>3</td>\n",
       "      <td>25</td>\n",
       "      <td>Individual</td>\n",
       "      <td>No</td>\n",
       "    </tr>\n",
       "    <tr>\n",
       "      <th>2193</th>\n",
       "      <td>TX</td>\n",
       "      <td>27248</td>\n",
       "      <td>HIOS</td>\n",
       "      <td>Medical</td>\n",
       "      <td>27248TX0010017</td>\n",
       "      <td>3</td>\n",
       "      <td>25</td>\n",
       "      <td>Individual</td>\n",
       "      <td>No</td>\n",
       "    </tr>\n",
       "    <tr>\n",
       "      <th>2194</th>\n",
       "      <td>TX</td>\n",
       "      <td>27248</td>\n",
       "      <td>HIOS</td>\n",
       "      <td>Medical</td>\n",
       "      <td>27248TX0010018</td>\n",
       "      <td>3</td>\n",
       "      <td>25</td>\n",
       "      <td>Individual</td>\n",
       "      <td>No</td>\n",
       "    </tr>\n",
       "    <tr>\n",
       "      <th>2195</th>\n",
       "      <td>TX</td>\n",
       "      <td>27248</td>\n",
       "      <td>HIOS</td>\n",
       "      <td>Medical</td>\n",
       "      <td>27248TX0010019</td>\n",
       "      <td>3</td>\n",
       "      <td>25</td>\n",
       "      <td>Individual</td>\n",
       "      <td>No</td>\n",
       "    </tr>\n",
       "    <tr>\n",
       "      <th>2196</th>\n",
       "      <td>TX</td>\n",
       "      <td>27248</td>\n",
       "      <td>HIOS</td>\n",
       "      <td>Medical</td>\n",
       "      <td>27248TX0010020</td>\n",
       "      <td>3</td>\n",
       "      <td>25</td>\n",
       "      <td>Individual</td>\n",
       "      <td>No</td>\n",
       "    </tr>\n",
       "    <tr>\n",
       "      <th>2197</th>\n",
       "      <td>TX</td>\n",
       "      <td>27248</td>\n",
       "      <td>HIOS</td>\n",
       "      <td>Medical</td>\n",
       "      <td>27248TX0010021</td>\n",
       "      <td>3</td>\n",
       "      <td>25</td>\n",
       "      <td>Individual</td>\n",
       "      <td>No</td>\n",
       "    </tr>\n",
       "    <tr>\n",
       "      <th>2198</th>\n",
       "      <td>TX</td>\n",
       "      <td>27248</td>\n",
       "      <td>HIOS</td>\n",
       "      <td>Medical</td>\n",
       "      <td>27248TX0010022</td>\n",
       "      <td>3</td>\n",
       "      <td>25</td>\n",
       "      <td>Individual</td>\n",
       "      <td>No</td>\n",
       "    </tr>\n",
       "    <tr>\n",
       "      <th>2199</th>\n",
       "      <td>TX</td>\n",
       "      <td>29418</td>\n",
       "      <td>HIOS</td>\n",
       "      <td>Medical</td>\n",
       "      <td>29418TX0140019</td>\n",
       "      <td>3</td>\n",
       "      <td>25</td>\n",
       "      <td>Individual</td>\n",
       "      <td>No</td>\n",
       "    </tr>\n",
       "  </tbody>\n",
       "</table>\n",
       "</div>"
      ],
      "text/plain": [
       "     StateCode  IssuerId SourceName MedicalDentalBoth StandardComponentId   \n",
       "2190        TX     27248       HIOS           Medical      27248TX0010012  \\\n",
       "2191        TX     27248       HIOS           Medical      27248TX0010013   \n",
       "2192        TX     27248       HIOS           Medical      27248TX0010016   \n",
       "2193        TX     27248       HIOS           Medical      27248TX0010017   \n",
       "2194        TX     27248       HIOS           Medical      27248TX0010018   \n",
       "2195        TX     27248       HIOS           Medical      27248TX0010019   \n",
       "2196        TX     27248       HIOS           Medical      27248TX0010020   \n",
       "2197        TX     27248       HIOS           Medical      27248TX0010021   \n",
       "2198        TX     27248       HIOS           Medical      27248TX0010022   \n",
       "2199        TX     29418       HIOS           Medical      29418TX0140019   \n",
       "\n",
       "     MaximumUnderageDependent DependentMaximumAgRule MarketCoverage   \n",
       "2190                        3                     25     Individual  \\\n",
       "2191                        3                     25     Individual   \n",
       "2192                        3                     25     Individual   \n",
       "2193                        3                     25     Individual   \n",
       "2194                        3                     25     Individual   \n",
       "2195                        3                     25     Individual   \n",
       "2196                        3                     25     Individual   \n",
       "2197                        3                     25     Individual   \n",
       "2198                        3                     25     Individual   \n",
       "2199                        3                     25     Individual   \n",
       "\n",
       "     DentalOnlyPlan  \n",
       "2190             No  \n",
       "2191             No  \n",
       "2192             No  \n",
       "2193             No  \n",
       "2194             No  \n",
       "2195             No  \n",
       "2196             No  \n",
       "2197             No  \n",
       "2198             No  \n",
       "2199             No  "
      ]
     },
     "execution_count": 16,
     "metadata": {},
     "output_type": "execute_result"
    }
   ],
   "source": [
    "Business_Rules = Business_Rules.drop(columns=['CohabitationRule'])\n",
    "Business_Rules.head(10)"
   ]
  },
  {
   "cell_type": "code",
   "execution_count": 17,
   "metadata": {},
   "outputs": [
    {
     "data": {
      "text/html": [
       "<div>\n",
       "<style scoped>\n",
       "    .dataframe tbody tr th:only-of-type {\n",
       "        vertical-align: middle;\n",
       "    }\n",
       "\n",
       "    .dataframe tbody tr th {\n",
       "        vertical-align: top;\n",
       "    }\n",
       "\n",
       "    .dataframe thead th {\n",
       "        text-align: right;\n",
       "    }\n",
       "</style>\n",
       "<table border=\"1\" class=\"dataframe\">\n",
       "  <thead>\n",
       "    <tr style=\"text-align: right;\">\n",
       "      <th></th>\n",
       "      <th>StateCode</th>\n",
       "      <th>State_Name</th>\n",
       "    </tr>\n",
       "  </thead>\n",
       "  <tbody>\n",
       "    <tr>\n",
       "      <th>0</th>\n",
       "      <td>TX</td>\n",
       "      <td>Texas</td>\n",
       "    </tr>\n",
       "  </tbody>\n",
       "</table>\n",
       "</div>"
      ],
      "text/plain": [
       "  StateCode State_Name\n",
       "0        TX      Texas"
      ]
     },
     "execution_count": 17,
     "metadata": {},
     "output_type": "execute_result"
    }
   ],
   "source": [
    "state = {'StateCode': [\"TX\"], 'State_Name': [\"Texas\"]}\n",
    "state = pd.DataFrame(data=state)\n",
    "state"
   ]
  },
  {
   "cell_type": "code",
   "execution_count": 18,
   "metadata": {},
   "outputs": [
    {
     "data": {
      "text/plain": [
       "Index(['StateCode', 'IssuerId', 'SourceName', 'StandardComponentId', 'PlanId',\n",
       "       'BenefitName', 'CopayInnTier1', 'CopayInnTier2', 'CopayOutofNet',\n",
       "       'CoinsInnTier1', 'CoinsInnTier2', 'CoinsOutofNet', 'IsEHB', 'IsCovered',\n",
       "       'QuantLimitOnSvc', 'LimitQty', 'LimitUnit', 'Exclusions'],\n",
       "      dtype='object')"
      ]
     },
     "execution_count": 18,
     "metadata": {},
     "output_type": "execute_result"
    }
   ],
   "source": [
    "Benefits_CostSharing.columns"
   ]
  },
  {
   "cell_type": "code",
   "execution_count": 19,
   "metadata": {},
   "outputs": [
    {
     "data": {
      "text/plain": [
       "Index(['StateCode', 'IssuerId', 'IssuerMarketPlaceMarketingName', 'SourceName',\n",
       "       'MarketCoverage', 'StandardComponentId', 'PlanMarketingName',\n",
       "       'IsNewPlan', 'PlanType', 'MetalLevel', 'ChildOnlyOffering',\n",
       "       'DiseaseManagementProgramsOffered', 'EHBPercentTotalPremium',\n",
       "       'PlanEffectiveDate', 'PlanExpirationDate', 'PlanId',\n",
       "       'IssuerActuarialValue', 'IsHSAEligible'],\n",
       "      dtype='object')"
      ]
     },
     "execution_count": 19,
     "metadata": {},
     "output_type": "execute_result"
    }
   ],
   "source": [
    "Plan_Attributes.columns"
   ]
  },
  {
   "attachments": {},
   "cell_type": "markdown",
   "metadata": {},
   "source": [
    "Proceso de imputaciones"
   ]
  },
  {
   "cell_type": "code",
   "execution_count": 20,
   "metadata": {},
   "outputs": [
    {
     "data": {
      "text/plain": [
       "array(['Yes', nan], dtype=object)"
      ]
     },
     "execution_count": 20,
     "metadata": {},
     "output_type": "execute_result"
    }
   ],
   "source": [
    "Benefits_CostSharing.IsEHB.unique()"
   ]
  },
  {
   "cell_type": "code",
   "execution_count": 21,
   "metadata": {},
   "outputs": [],
   "source": [
    "Benefits_CostSharing = Benefits_CostSharing.fillna(\"No\")"
   ]
  },
  {
   "cell_type": "code",
   "execution_count": 22,
   "metadata": {},
   "outputs": [
    {
     "data": {
      "text/plain": [
       "array(['Yes', 'No'], dtype=object)"
      ]
     },
     "execution_count": 22,
     "metadata": {},
     "output_type": "execute_result"
    }
   ],
   "source": [
    "Benefits_CostSharing.IsEHB.unique()"
   ]
  },
  {
   "attachments": {},
   "cell_type": "markdown",
   "metadata": {},
   "source": [
    "Insert de tablas en la base de datos"
   ]
  },
  {
   "cell_type": "code",
   "execution_count": 25,
   "metadata": {},
   "outputs": [],
   "source": [
    "import psycopg2\n",
    "import psycopg2.extras as extras\n",
    "import pandas as pd\n",
    "\n",
    "\n",
    "def execute_values(conn, df, table):\n",
    "\n",
    "\ttuples = [tuple(x) for x in df.to_numpy()]\n",
    "\n",
    "\tcols = ','.join(list(df.columns))\n",
    "\tfinish = True\n",
    "\tcoma = 0\n",
    "\tcont = 0\n",
    "\tcols_final = '\"'\n",
    "\tcols += \",\"\n",
    "\twhile(finish):\n",
    "\t\tcoma = cols.find(\",\", cont)\n",
    "\t\tif coma == -1:\n",
    "\t\t\tfinish = False\n",
    "\t\t\tcols_final = cols_final[:-2]\n",
    "\t\telse:\n",
    "\t\t\tvar = cols[cont:coma]\n",
    "\t\t\tcont = coma + 1\n",
    "\t\t\tcols_final += var\n",
    "\t\t\tcols_final += '\",\"'\n",
    "\n",
    "\n",
    "\tprint(cols_final)\n",
    "\t# SQL query to execute\n",
    "\tquery = \"INSERT INTO %s(%s) VALUES %%s\" % (table, cols_final)\n",
    "\tcursor = conn.cursor()\n",
    "\ttry:\n",
    "\t\textras.execute_values(cursor, query, tuples)\n",
    "\t\tconn.commit()\n",
    "\texcept (Exception, psycopg2.DatabaseError) as error:\n",
    "\t\tprint(\"Error: %s\" % error)\n",
    "\t\tconn.rollback()\n",
    "\t\tcursor.close()\n",
    "\t\treturn 1\n",
    "\tprint(\"execute_values() done\")\n",
    "\tcursor.close()"
   ]
  },
  {
   "attachments": {},
   "cell_type": "markdown",
   "metadata": {},
   "source": [
    "Insert tabla State"
   ]
  },
  {
   "cell_type": "code",
   "execution_count": 26,
   "metadata": {},
   "outputs": [
    {
     "name": "stdout",
     "output_type": "stream",
     "text": [
      "\"StateCode\",\"State_Name\"\n",
      "execute_values() done\n"
     ]
    }
   ],
   "source": [
    "# establishing connection\n",
    "conn = psycopg2.connect(\n",
    "  database=\"BI_Issuer\",\n",
    "  user='postgres', \n",
    "  password='', \n",
    "  host='localhost', \n",
    "  port= '5432'\n",
    ")\n",
    "sql = '''DELETE FROM public.\"State\";'''\n",
    "  \n",
    "#creating a cursor\n",
    "cursor = conn.cursor()\n",
    "cursor.execute(sql)\n",
    "conn.commit()\n",
    "data = state\n",
    "# using the function defined\n",
    "execute_values(conn, data, 'public.\"State\"')\n",
    "conn.close()"
   ]
  },
  {
   "attachments": {},
   "cell_type": "markdown",
   "metadata": {},
   "source": [
    "Insert tabla Bussiness Rules"
   ]
  },
  {
   "cell_type": "code",
   "execution_count": 27,
   "metadata": {},
   "outputs": [],
   "source": [
    "Business_Rules_prueba = Business_Rules[[\"StateCode\", \"IssuerId\", \"MedicalDentalBoth\",\"StandardComponentId\"]]"
   ]
  },
  {
   "cell_type": "code",
   "execution_count": 29,
   "metadata": {},
   "outputs": [
    {
     "name": "stdout",
     "output_type": "stream",
     "text": [
      "\"StateCode\",\"IssuerId\",\"MedicalDentalBoth\",\"StandardComponentId\"\n",
      "execute_values() done\n"
     ]
    }
   ],
   "source": [
    "# establishing connection\n",
    "conn = psycopg2.connect(\n",
    "  database=\"BI_Issuer\",\n",
    "  user='postgres', \n",
    "  password='', \n",
    "  host='localhost', \n",
    "  port= '5432'\n",
    ")\n",
    "sql = '''DELETE FROM public.\"Business_Rules\";'''\n",
    "  \n",
    "#creating a cursor\n",
    "cursor = conn.cursor()\n",
    "cursor.execute(sql)\n",
    "conn.commit()\n",
    "data = Business_Rules_prueba\n",
    "# using the function defined\n",
    "execute_values(conn, data, 'public.\"Business_Rules\"')\n",
    "conn.close()"
   ]
  },
  {
   "attachments": {},
   "cell_type": "markdown",
   "metadata": {},
   "source": [
    "Insert tabla Benefits_CostSharing"
   ]
  },
  {
   "cell_type": "code",
   "execution_count": 124,
   "metadata": {},
   "outputs": [],
   "source": [
    "Benefits_CostSharing_prueba = Benefits_CostSharing[[\"StateCode\", \"IssuerId\", \"StandardComponentId\", \"PlanId\"]]"
   ]
  },
  {
   "cell_type": "code",
   "execution_count": 126,
   "metadata": {},
   "outputs": [
    {
     "name": "stdout",
     "output_type": "stream",
     "text": [
      "\"StateCode\",\"IssuerId\",\"StandardComponentId\",\"PlanId\"\n",
      "execute_values() done\n"
     ]
    }
   ],
   "source": [
    "# establishing connection\n",
    "conn = psycopg2.connect(\n",
    "  database=\"BI_Issuer\",\n",
    "  user='postgres', \n",
    "  password='', \n",
    "  host='localhost', \n",
    "  port= '5432'\n",
    ")\n",
    "sql = '''DELETE FROM public.\"Benefits_CostSharing\";'''\n",
    "  \n",
    "#creating a cursor\n",
    "cursor = conn.cursor()\n",
    "cursor.execute(sql)\n",
    "conn.commit()\n",
    "data = Benefits_CostSharing_prueba\n",
    "# using the function defined\n",
    "execute_values(conn, data, 'public.\"Benefits_CostSharing\"')\n",
    "conn.close()"
   ]
  },
  {
   "attachments": {},
   "cell_type": "markdown",
   "metadata": {},
   "source": [
    "Insert tabla Rate"
   ]
  },
  {
   "cell_type": "code",
   "execution_count": 127,
   "metadata": {},
   "outputs": [],
   "source": [
    "Rate_prueba = Rate[[\"StateCode\", \"IssuerId\", \"PlanId\"]]"
   ]
  },
  {
   "cell_type": "code",
   "execution_count": 128,
   "metadata": {},
   "outputs": [
    {
     "name": "stdout",
     "output_type": "stream",
     "text": [
      "\"StateCode\",\"IssuerId\",\"PlanId\"\n",
      "execute_values() done\n"
     ]
    }
   ],
   "source": [
    "# establishing connection\n",
    "conn = psycopg2.connect(\n",
    "  database=\"BI_Issuer\",\n",
    "  user='postgres', \n",
    "  password='', \n",
    "  host='localhost', \n",
    "  port= '5432'\n",
    ")\n",
    "sql = '''DELETE FROM public.\"Rate\";'''\n",
    "  \n",
    "#creating a cursor\n",
    "cursor = conn.cursor()\n",
    "cursor.execute(sql)\n",
    "conn.commit()\n",
    "data = Rate_prueba\n",
    "# using the function defined\n",
    "execute_values(conn, data, 'public.\"Rate\"')\n",
    "conn.close()"
   ]
  },
  {
   "attachments": {},
   "cell_type": "markdown",
   "metadata": {},
   "source": [
    "Insert tabla Plan Attributes"
   ]
  },
  {
   "cell_type": "code",
   "execution_count": 129,
   "metadata": {},
   "outputs": [
    {
     "data": {
      "text/plain": [
       "Index(['StateCode', 'IssuerId', 'IssuerMarketPlaceMarketingName', 'SourceName',\n",
       "       'MarketCoverage', 'StandardComponentId', 'PlanMarketingName',\n",
       "       'IsNewPlan', 'PlanType', 'MetalLevel', 'ChildOnlyOffering',\n",
       "       'DiseaseManagementProgramsOffered', 'EHBPercentTotalPremium',\n",
       "       'PlanEffectiveDate', 'PlanExpirationDate', 'PlanId',\n",
       "       'IssuerActuarialValue', 'IsHSAEligible'],\n",
       "      dtype='object')"
      ]
     },
     "execution_count": 129,
     "metadata": {},
     "output_type": "execute_result"
    }
   ],
   "source": [
    "Plan_Attributes.columns"
   ]
  },
  {
   "cell_type": "code",
   "execution_count": 130,
   "metadata": {},
   "outputs": [],
   "source": [
    "Plan_Attributes_prueba = Plan_Attributes[[\"StateCode\", \"IssuerId\", \"IssuerMarketPlaceMarketingName\", \"MarketCoverage\", \"StandardComponentId\"]]"
   ]
  },
  {
   "cell_type": "code",
   "execution_count": 131,
   "metadata": {},
   "outputs": [
    {
     "name": "stdout",
     "output_type": "stream",
     "text": [
      "\"StateCode\",\"IssuerId\",\"IssuerMarketPlaceMarketingName\",\"MarketCoverage\",\"StandardComponentId\"\n",
      "execute_values() done\n"
     ]
    }
   ],
   "source": [
    "# establishing connection\n",
    "conn = psycopg2.connect(\n",
    "  database=\"BI_Issuer\",\n",
    "  user='postgres', \n",
    "  password='', \n",
    "  host='localhost', \n",
    "  port= '5432'\n",
    ")\n",
    "sql = '''DELETE FROM public.\"Plan_Attributes\";'''\n",
    "  \n",
    "#creating a cursor\n",
    "cursor = conn.cursor()\n",
    "cursor.execute(sql)\n",
    "conn.commit()\n",
    "data = Plan_Attributes_prueba\n",
    "# using the function defined\n",
    "execute_values(conn, data, 'public.\"Plan_Attributes\"')\n",
    "conn.close()"
   ]
  }
 ],
 "metadata": {
  "kernelspec": {
   "display_name": ".venv",
   "language": "python",
   "name": "python3"
  },
  "language_info": {
   "codemirror_mode": {
    "name": "ipython",
    "version": 3
   },
   "file_extension": ".py",
   "mimetype": "text/x-python",
   "name": "python",
   "nbconvert_exporter": "python",
   "pygments_lexer": "ipython3",
   "version": "3.11.3"
  },
  "orig_nbformat": 4
 },
 "nbformat": 4,
 "nbformat_minor": 2
}
