{
 "cells": [
  {
   "cell_type": "code",
   "execution_count": 246,
   "metadata": {},
   "outputs": [],
   "source": [
    "import pandas as pd\n",
    "import os\n",
    "import psycopg2\n",
    "\n",
    "\n",
    "#path = 'C:/GitHub/Proyecto_Final_BI/'\n",
    "path = \"\""
   ]
  },
  {
   "attachments": {},
   "cell_type": "markdown",
   "metadata": {},
   "source": [
    "Lectura de archivos"
   ]
  },
  {
   "cell_type": "code",
   "execution_count": 247,
   "metadata": {},
   "outputs": [
    {
     "name": "stderr",
     "output_type": "stream",
     "text": [
      "/var/folders/nc/msnr18q57_bfryvsdz5vb_w00000gn/T/ipykernel_2844/278177419.py:10: DtypeWarning: Columns (9,12,19) have mixed types. Specify dtype option on import or set low_memory=False.\n",
      "  df = pd.read_csv(filename)\n",
      "/var/folders/nc/msnr18q57_bfryvsdz5vb_w00000gn/T/ipykernel_2844/278177419.py:10: DtypeWarning: Columns (27,64,80,81,82,86,87,88,89,90,91,111,122,123,124,125,147,148) have mixed types. Specify dtype option on import or set low_memory=False.\n",
      "  df = pd.read_csv(filename)\n"
     ]
    }
   ],
   "source": [
    "# función dada en clase\n",
    "def load_data(filename):\n",
    "    \"\"\" Load dataset from filename\n",
    "    Args:\n",
    "        filename (string): Path to data\n",
    "        \n",
    "    Returns:\n",
    "        df (DataFrame): Dataset from file\n",
    "    \"\"\"\n",
    "    df = pd.read_csv(filename)\n",
    "    return df\n",
    "\n",
    "filename = os.path.join(path,'Benefits_Cost_Sharing_PUF.csv')\n",
    "Benefits_CostSharing = load_data(filename)\n",
    "\n",
    "filename = os.path.join(path,'Business_Rules_PUF.csv')\n",
    "Business_Rules = load_data(filename)\n",
    "\n",
    "filename = os.path.join(path,'Plan_Attributes_PUF.csv')\n",
    "Plan_Attributes = load_data(filename)\n",
    "\n",
    "filename = os.path.join(path,'Rate_PUF.csv')\n",
    "Rate = load_data(filename)"
   ]
  },
  {
   "cell_type": "code",
   "execution_count": 248,
   "metadata": {},
   "outputs": [
    {
     "data": {
      "text/plain": [
       "Index(['StateCode', 'IssuerId', 'StandardComponentId', 'PlanId', 'BenefitName',\n",
       "       'CopayInnTier1', 'CopayInnTier2', 'CopayOutofNet', 'CoinsInnTier1',\n",
       "       'CoinsInnTier2', 'CoinsOutofNet', 'IsEHB', 'IsCovered',\n",
       "       'QuantLimitOnSvc', 'LimitQty', 'LimitUnit', 'Exclusions'],\n",
       "      dtype='object')"
      ]
     },
     "execution_count": 248,
     "metadata": {},
     "output_type": "execute_result"
    }
   ],
   "source": [
    "Benefits_CostSharing = Benefits_CostSharing[['StateCode', 'IssuerId', 'StandardComponentId', 'PlanId', 'BenefitName', \n",
    "                                            'CopayInnTier1', 'CopayInnTier2', 'CopayOutofNet', 'CoinsInnTier1', 'CoinsInnTier2',\n",
    "                                            'CoinsOutofNet', 'IsEHB', 'IsCovered', 'QuantLimitOnSvc', 'LimitQty','LimitUnit', 'Exclusions']]\n",
    "Benefits_CostSharing.columns"
   ]
  },
  {
   "cell_type": "code",
   "execution_count": 249,
   "metadata": {},
   "outputs": [
    {
     "data": {
      "text/plain": [
       "Index(['StateCode', 'IssuerId', 'MedicalDentalBoth', 'StandardComponentId',\n",
       "       'MaximumUnderageDependent', 'MarketCoverage', 'DentalOnlyPlan'],\n",
       "      dtype='object')"
      ]
     },
     "execution_count": 249,
     "metadata": {},
     "output_type": "execute_result"
    }
   ],
   "source": [
    "Business_Rules = Business_Rules[['StateCode', 'IssuerId', 'MedicalDentalBoth', 'StandardComponentId',\n",
    "                                 'MaximumUnderageDependent', 'MarketCoverage',\n",
    "                                 'DentalOnlyPlan']]\n",
    "Business_Rules.columns"
   ]
  },
  {
   "cell_type": "code",
   "execution_count": 250,
   "metadata": {},
   "outputs": [
    {
     "data": {
      "text/plain": [
       "Index(['StateCode', 'IssuerId', 'IssuerMarketPlaceMarketingName',\n",
       "       'MarketCoverage', 'StandardComponentId', 'PlanMarketingName',\n",
       "       'IsNewPlan', 'MetalLevel', 'ChildOnlyOffering',\n",
       "       'DiseaseManagementProgramsOffered', 'EHBPercentTotalPremium', 'PlanId',\n",
       "       'IssuerActuarialValue', 'IsHSAEligible'],\n",
       "      dtype='object')"
      ]
     },
     "execution_count": 250,
     "metadata": {},
     "output_type": "execute_result"
    }
   ],
   "source": [
    "Plan_Attributes = Plan_Attributes[['StateCode', 'IssuerId', 'IssuerMarketPlaceMarketingName', \n",
    "                                   'MarketCoverage', 'StandardComponentId', 'PlanMarketingName', 'IsNewPlan', 'MetalLevel', \n",
    "                                   'ChildOnlyOffering', 'DiseaseManagementProgramsOffered',\n",
    "                                   'EHBPercentTotalPremium', 'PlanId',\n",
    "                                   'IssuerActuarialValue', 'IsHSAEligible']]\n",
    "Plan_Attributes.columns"
   ]
  },
  {
   "cell_type": "code",
   "execution_count": 251,
   "metadata": {},
   "outputs": [
    {
     "data": {
      "text/plain": [
       "Index(['StateCode', 'IssuerId', 'PlanId', 'Age', 'IndividualRate', 'Couple',\n",
       "       'PrimarySubscriberAndOneDependent', 'PrimarySubscriberAndTwoDependents',\n",
       "       'PrimarySubscriberAndThreeOrMoreDependents', 'CoupleAndOneDependent',\n",
       "       'CoupleAndTwoDependents', 'CoupleAndThreeOrMoreDependents'],\n",
       "      dtype='object')"
      ]
     },
     "execution_count": 251,
     "metadata": {},
     "output_type": "execute_result"
    }
   ],
   "source": [
    "Rate = Rate[['StateCode', 'IssuerId','PlanId','Age', 'IndividualRate', 'Couple',\n",
    "       'PrimarySubscriberAndOneDependent', 'PrimarySubscriberAndTwoDependents',\n",
    "       'PrimarySubscriberAndThreeOrMoreDependents', 'CoupleAndOneDependent',\n",
    "       'CoupleAndTwoDependents', 'CoupleAndThreeOrMoreDependents' ]]\n",
    "Rate.columns"
   ]
  },
  {
   "attachments": {},
   "cell_type": "markdown",
   "metadata": {},
   "source": [
    "La tabla de Business Rules PUF puede ser el primer filtro"
   ]
  },
  {
   "cell_type": "code",
   "execution_count": 252,
   "metadata": {},
   "outputs": [
    {
     "data": {
      "text/html": [
       "<div>\n",
       "<style scoped>\n",
       "    .dataframe tbody tr th:only-of-type {\n",
       "        vertical-align: middle;\n",
       "    }\n",
       "\n",
       "    .dataframe tbody tr th {\n",
       "        vertical-align: top;\n",
       "    }\n",
       "\n",
       "    .dataframe thead th {\n",
       "        text-align: right;\n",
       "    }\n",
       "</style>\n",
       "<table border=\"1\" class=\"dataframe\">\n",
       "  <thead>\n",
       "    <tr style=\"text-align: right;\">\n",
       "      <th></th>\n",
       "      <th>StateCode</th>\n",
       "      <th>IssuerId</th>\n",
       "      <th>MedicalDentalBoth</th>\n",
       "      <th>StandardComponentId</th>\n",
       "      <th>MaximumUnderageDependent</th>\n",
       "      <th>MarketCoverage</th>\n",
       "      <th>DentalOnlyPlan</th>\n",
       "    </tr>\n",
       "  </thead>\n",
       "  <tbody>\n",
       "    <tr>\n",
       "      <th>0</th>\n",
       "      <td>AK</td>\n",
       "      <td>21989</td>\n",
       "      <td>Dental</td>\n",
       "      <td>21989AK0030001</td>\n",
       "      <td>3</td>\n",
       "      <td>Individual</td>\n",
       "      <td>Yes</td>\n",
       "    </tr>\n",
       "    <tr>\n",
       "      <th>1</th>\n",
       "      <td>AK</td>\n",
       "      <td>21989</td>\n",
       "      <td>Dental</td>\n",
       "      <td>21989AK0030051</td>\n",
       "      <td>3</td>\n",
       "      <td>SHOP (Small Group)</td>\n",
       "      <td>Yes</td>\n",
       "    </tr>\n",
       "    <tr>\n",
       "      <th>2</th>\n",
       "      <td>AK</td>\n",
       "      <td>21989</td>\n",
       "      <td>Dental</td>\n",
       "      <td>21989AK0030052</td>\n",
       "      <td>3</td>\n",
       "      <td>SHOP (Small Group)</td>\n",
       "      <td>Yes</td>\n",
       "    </tr>\n",
       "    <tr>\n",
       "      <th>3</th>\n",
       "      <td>AK</td>\n",
       "      <td>21989</td>\n",
       "      <td>Dental</td>\n",
       "      <td>21989AK0040051</td>\n",
       "      <td>3</td>\n",
       "      <td>SHOP (Small Group)</td>\n",
       "      <td>Yes</td>\n",
       "    </tr>\n",
       "    <tr>\n",
       "      <th>4</th>\n",
       "      <td>AK</td>\n",
       "      <td>21989</td>\n",
       "      <td>Dental</td>\n",
       "      <td>21989AK0040052</td>\n",
       "      <td>3</td>\n",
       "      <td>SHOP (Small Group)</td>\n",
       "      <td>Yes</td>\n",
       "    </tr>\n",
       "    <tr>\n",
       "      <th>5</th>\n",
       "      <td>AK</td>\n",
       "      <td>21989</td>\n",
       "      <td>Dental</td>\n",
       "      <td>21989AK0040053</td>\n",
       "      <td>3</td>\n",
       "      <td>SHOP (Small Group)</td>\n",
       "      <td>Yes</td>\n",
       "    </tr>\n",
       "    <tr>\n",
       "      <th>6</th>\n",
       "      <td>AK</td>\n",
       "      <td>21989</td>\n",
       "      <td>Dental</td>\n",
       "      <td>21989AK0040054</td>\n",
       "      <td>3</td>\n",
       "      <td>SHOP (Small Group)</td>\n",
       "      <td>Yes</td>\n",
       "    </tr>\n",
       "    <tr>\n",
       "      <th>7</th>\n",
       "      <td>AK</td>\n",
       "      <td>21989</td>\n",
       "      <td>Dental</td>\n",
       "      <td>21989AK0040055</td>\n",
       "      <td>3</td>\n",
       "      <td>SHOP (Small Group)</td>\n",
       "      <td>Yes</td>\n",
       "    </tr>\n",
       "    <tr>\n",
       "      <th>8</th>\n",
       "      <td>AK</td>\n",
       "      <td>21989</td>\n",
       "      <td>Dental</td>\n",
       "      <td>21989AK0050001</td>\n",
       "      <td>3</td>\n",
       "      <td>Individual</td>\n",
       "      <td>Yes</td>\n",
       "    </tr>\n",
       "    <tr>\n",
       "      <th>9</th>\n",
       "      <td>AK</td>\n",
       "      <td>21989</td>\n",
       "      <td>Dental</td>\n",
       "      <td>21989AK0050002</td>\n",
       "      <td>3</td>\n",
       "      <td>Individual</td>\n",
       "      <td>Yes</td>\n",
       "    </tr>\n",
       "  </tbody>\n",
       "</table>\n",
       "</div>"
      ],
      "text/plain": [
       "  StateCode  IssuerId MedicalDentalBoth StandardComponentId   \n",
       "0        AK     21989            Dental      21989AK0030001  \\\n",
       "1        AK     21989            Dental      21989AK0030051   \n",
       "2        AK     21989            Dental      21989AK0030052   \n",
       "3        AK     21989            Dental      21989AK0040051   \n",
       "4        AK     21989            Dental      21989AK0040052   \n",
       "5        AK     21989            Dental      21989AK0040053   \n",
       "6        AK     21989            Dental      21989AK0040054   \n",
       "7        AK     21989            Dental      21989AK0040055   \n",
       "8        AK     21989            Dental      21989AK0050001   \n",
       "9        AK     21989            Dental      21989AK0050002   \n",
       "\n",
       "  MaximumUnderageDependent      MarketCoverage DentalOnlyPlan  \n",
       "0                        3          Individual            Yes  \n",
       "1                        3  SHOP (Small Group)            Yes  \n",
       "2                        3  SHOP (Small Group)            Yes  \n",
       "3                        3  SHOP (Small Group)            Yes  \n",
       "4                        3  SHOP (Small Group)            Yes  \n",
       "5                        3  SHOP (Small Group)            Yes  \n",
       "6                        3  SHOP (Small Group)            Yes  \n",
       "7                        3  SHOP (Small Group)            Yes  \n",
       "8                        3          Individual            Yes  \n",
       "9                        3          Individual            Yes  "
      ]
     },
     "execution_count": 252,
     "metadata": {},
     "output_type": "execute_result"
    }
   ],
   "source": [
    "Business_Rules.head(10)"
   ]
  },
  {
   "cell_type": "code",
   "execution_count": 253,
   "metadata": {},
   "outputs": [
    {
     "data": {
      "text/plain": [
       "array(['AK', 'AL', 'AZ', 'FL', 'GA', 'IN', 'LA', 'MO', 'MS', 'NC', 'OK',\n",
       "       'TX', 'WI', 'IA', 'ND', 'SC', 'TN', 'WY', 'AR', 'DE', 'HI', 'IL',\n",
       "       'NE', 'NH', 'OH', 'KS', 'MI', 'MT', 'OR', 'SD', 'UT', 'VA', 'WV'],\n",
       "      dtype=object)"
      ]
     },
     "execution_count": 253,
     "metadata": {},
     "output_type": "execute_result"
    }
   ],
   "source": [
    "Business_Rules.StateCode.unique()"
   ]
  },
  {
   "attachments": {},
   "cell_type": "markdown",
   "metadata": {},
   "source": [
    "Virginia: 8642274 VA\n",
    "Arizona: 7276316 AZ\n",
    "Tennesse: 6975218 TN\n"
   ]
  },
  {
   "cell_type": "code",
   "execution_count": 254,
   "metadata": {},
   "outputs": [
    {
     "data": {
      "text/html": [
       "<div>\n",
       "<style scoped>\n",
       "    .dataframe tbody tr th:only-of-type {\n",
       "        vertical-align: middle;\n",
       "    }\n",
       "\n",
       "    .dataframe tbody tr th {\n",
       "        vertical-align: top;\n",
       "    }\n",
       "\n",
       "    .dataframe thead th {\n",
       "        text-align: right;\n",
       "    }\n",
       "</style>\n",
       "<table border=\"1\" class=\"dataframe\">\n",
       "  <thead>\n",
       "    <tr style=\"text-align: right;\">\n",
       "      <th></th>\n",
       "      <th>StateCode</th>\n",
       "      <th>IssuerId</th>\n",
       "      <th>MedicalDentalBoth</th>\n",
       "      <th>StandardComponentId</th>\n",
       "      <th>MaximumUnderageDependent</th>\n",
       "      <th>MarketCoverage</th>\n",
       "      <th>DentalOnlyPlan</th>\n",
       "    </tr>\n",
       "  </thead>\n",
       "  <tbody>\n",
       "    <tr>\n",
       "      <th>75</th>\n",
       "      <td>AL</td>\n",
       "      <td>46944</td>\n",
       "      <td>Both</td>\n",
       "      <td>46944AL0280001</td>\n",
       "      <td>3</td>\n",
       "      <td>SHOP (Small Group)</td>\n",
       "      <td>No</td>\n",
       "    </tr>\n",
       "    <tr>\n",
       "      <th>76</th>\n",
       "      <td>AL</td>\n",
       "      <td>46944</td>\n",
       "      <td>Both</td>\n",
       "      <td>46944AL0340001</td>\n",
       "      <td>3</td>\n",
       "      <td>SHOP (Small Group)</td>\n",
       "      <td>No</td>\n",
       "    </tr>\n",
       "    <tr>\n",
       "      <th>77</th>\n",
       "      <td>AL</td>\n",
       "      <td>46944</td>\n",
       "      <td>Both</td>\n",
       "      <td>46944AL0370001</td>\n",
       "      <td>3</td>\n",
       "      <td>Individual</td>\n",
       "      <td>No</td>\n",
       "    </tr>\n",
       "    <tr>\n",
       "      <th>78</th>\n",
       "      <td>AL</td>\n",
       "      <td>46944</td>\n",
       "      <td>Both</td>\n",
       "      <td>46944AL0380001</td>\n",
       "      <td>3</td>\n",
       "      <td>SHOP (Small Group)</td>\n",
       "      <td>No</td>\n",
       "    </tr>\n",
       "    <tr>\n",
       "      <th>79</th>\n",
       "      <td>AL</td>\n",
       "      <td>46944</td>\n",
       "      <td>Both</td>\n",
       "      <td>46944AL0410001</td>\n",
       "      <td>3</td>\n",
       "      <td>Individual</td>\n",
       "      <td>No</td>\n",
       "    </tr>\n",
       "    <tr>\n",
       "      <th>...</th>\n",
       "      <td>...</td>\n",
       "      <td>...</td>\n",
       "      <td>...</td>\n",
       "      <td>...</td>\n",
       "      <td>...</td>\n",
       "      <td>...</td>\n",
       "      <td>...</td>\n",
       "    </tr>\n",
       "    <tr>\n",
       "      <th>7321</th>\n",
       "      <td>VA</td>\n",
       "      <td>41921</td>\n",
       "      <td>Both</td>\n",
       "      <td>41921VA0020071</td>\n",
       "      <td>3</td>\n",
       "      <td>Individual</td>\n",
       "      <td>No</td>\n",
       "    </tr>\n",
       "    <tr>\n",
       "      <th>7322</th>\n",
       "      <td>VA</td>\n",
       "      <td>41921</td>\n",
       "      <td>Both</td>\n",
       "      <td>41921VA0020072</td>\n",
       "      <td>3</td>\n",
       "      <td>Individual</td>\n",
       "      <td>No</td>\n",
       "    </tr>\n",
       "    <tr>\n",
       "      <th>7323</th>\n",
       "      <td>VA</td>\n",
       "      <td>41921</td>\n",
       "      <td>Both</td>\n",
       "      <td>41921VA0020073</td>\n",
       "      <td>3</td>\n",
       "      <td>Individual</td>\n",
       "      <td>No</td>\n",
       "    </tr>\n",
       "    <tr>\n",
       "      <th>7324</th>\n",
       "      <td>VA</td>\n",
       "      <td>41921</td>\n",
       "      <td>Both</td>\n",
       "      <td>41921VA0020074</td>\n",
       "      <td>3</td>\n",
       "      <td>Individual</td>\n",
       "      <td>No</td>\n",
       "    </tr>\n",
       "    <tr>\n",
       "      <th>7325</th>\n",
       "      <td>VA</td>\n",
       "      <td>41921</td>\n",
       "      <td>Both</td>\n",
       "      <td>41921VA0020075</td>\n",
       "      <td>3</td>\n",
       "      <td>Individual</td>\n",
       "      <td>No</td>\n",
       "    </tr>\n",
       "  </tbody>\n",
       "</table>\n",
       "<p>1631 rows × 7 columns</p>\n",
       "</div>"
      ],
      "text/plain": [
       "     StateCode  IssuerId MedicalDentalBoth StandardComponentId   \n",
       "75          AL     46944              Both      46944AL0280001  \\\n",
       "76          AL     46944              Both      46944AL0340001   \n",
       "77          AL     46944              Both      46944AL0370001   \n",
       "78          AL     46944              Both      46944AL0380001   \n",
       "79          AL     46944              Both      46944AL0410001   \n",
       "...        ...       ...               ...                 ...   \n",
       "7321        VA     41921              Both      41921VA0020071   \n",
       "7322        VA     41921              Both      41921VA0020072   \n",
       "7323        VA     41921              Both      41921VA0020073   \n",
       "7324        VA     41921              Both      41921VA0020074   \n",
       "7325        VA     41921              Both      41921VA0020075   \n",
       "\n",
       "     MaximumUnderageDependent      MarketCoverage DentalOnlyPlan  \n",
       "75                          3  SHOP (Small Group)             No  \n",
       "76                          3  SHOP (Small Group)             No  \n",
       "77                          3          Individual             No  \n",
       "78                          3  SHOP (Small Group)             No  \n",
       "79                          3          Individual             No  \n",
       "...                       ...                 ...            ...  \n",
       "7321                        3          Individual             No  \n",
       "7322                        3          Individual             No  \n",
       "7323                        3          Individual             No  \n",
       "7324                        3          Individual             No  \n",
       "7325                        3          Individual             No  \n",
       "\n",
       "[1631 rows x 7 columns]"
      ]
     },
     "execution_count": 254,
     "metadata": {},
     "output_type": "execute_result"
    }
   ],
   "source": [
    "Business_Rules[Business_Rules[\"MedicalDentalBoth\"] == 'Both']"
   ]
  },
  {
   "cell_type": "code",
   "execution_count": 255,
   "metadata": {},
   "outputs": [],
   "source": [
    "Business_Rules = Business_Rules[(Business_Rules.StateCode.isin(['TX','FL','IL','OH','NC','GA','MI','VA','AZ','TN'])) & (Business_Rules.MedicalDentalBoth != 'Dental')]"
   ]
  },
  {
   "cell_type": "code",
   "execution_count": 256,
   "metadata": {},
   "outputs": [
    {
     "data": {
      "text/plain": [
       "array(['AZ', 'FL', 'GA', 'NC', 'TX', 'TN', 'IL', 'OH', 'MI', 'VA'],\n",
       "      dtype=object)"
      ]
     },
     "execution_count": 256,
     "metadata": {},
     "output_type": "execute_result"
    }
   ],
   "source": [
    "Business_Rules.StateCode.unique()"
   ]
  },
  {
   "cell_type": "code",
   "execution_count": 257,
   "metadata": {},
   "outputs": [],
   "source": [
    "Rate = Rate[Rate.PlanId.isin(Business_Rules.StandardComponentId)]"
   ]
  },
  {
   "cell_type": "code",
   "execution_count": 258,
   "metadata": {},
   "outputs": [
    {
     "data": {
      "text/plain": [
       "array(['AZ', 'FL', 'GA', 'NC', 'TN', 'TX', 'IL', 'MI', 'OH', 'VA'],\n",
       "      dtype=object)"
      ]
     },
     "execution_count": 258,
     "metadata": {},
     "output_type": "execute_result"
    }
   ],
   "source": [
    "Rate.StateCode.unique()"
   ]
  },
  {
   "cell_type": "code",
   "execution_count": 259,
   "metadata": {},
   "outputs": [
    {
     "data": {
      "text/html": [
       "<div>\n",
       "<style scoped>\n",
       "    .dataframe tbody tr th:only-of-type {\n",
       "        vertical-align: middle;\n",
       "    }\n",
       "\n",
       "    .dataframe tbody tr th {\n",
       "        vertical-align: top;\n",
       "    }\n",
       "\n",
       "    .dataframe thead th {\n",
       "        text-align: right;\n",
       "    }\n",
       "</style>\n",
       "<table border=\"1\" class=\"dataframe\">\n",
       "  <thead>\n",
       "    <tr style=\"text-align: right;\">\n",
       "      <th></th>\n",
       "      <th>StateCode</th>\n",
       "      <th>IssuerId</th>\n",
       "      <th>PlanId</th>\n",
       "      <th>Age</th>\n",
       "      <th>IndividualRate</th>\n",
       "      <th>Couple</th>\n",
       "      <th>PrimarySubscriberAndOneDependent</th>\n",
       "      <th>PrimarySubscriberAndTwoDependents</th>\n",
       "      <th>PrimarySubscriberAndThreeOrMoreDependents</th>\n",
       "      <th>CoupleAndOneDependent</th>\n",
       "      <th>CoupleAndTwoDependents</th>\n",
       "      <th>CoupleAndThreeOrMoreDependents</th>\n",
       "    </tr>\n",
       "  </thead>\n",
       "  <tbody>\n",
       "    <tr>\n",
       "      <th>65110</th>\n",
       "      <td>AZ</td>\n",
       "      <td>13877</td>\n",
       "      <td>13877AZ0070002</td>\n",
       "      <td>0-14</td>\n",
       "      <td>200.78</td>\n",
       "      <td>NaN</td>\n",
       "      <td>NaN</td>\n",
       "      <td>NaN</td>\n",
       "      <td>NaN</td>\n",
       "      <td>NaN</td>\n",
       "      <td>NaN</td>\n",
       "      <td>NaN</td>\n",
       "    </tr>\n",
       "    <tr>\n",
       "      <th>65111</th>\n",
       "      <td>AZ</td>\n",
       "      <td>13877</td>\n",
       "      <td>13877AZ0070002</td>\n",
       "      <td>15</td>\n",
       "      <td>218.63</td>\n",
       "      <td>NaN</td>\n",
       "      <td>NaN</td>\n",
       "      <td>NaN</td>\n",
       "      <td>NaN</td>\n",
       "      <td>NaN</td>\n",
       "      <td>NaN</td>\n",
       "      <td>NaN</td>\n",
       "    </tr>\n",
       "    <tr>\n",
       "      <th>65112</th>\n",
       "      <td>AZ</td>\n",
       "      <td>13877</td>\n",
       "      <td>13877AZ0070002</td>\n",
       "      <td>16</td>\n",
       "      <td>225.45</td>\n",
       "      <td>NaN</td>\n",
       "      <td>NaN</td>\n",
       "      <td>NaN</td>\n",
       "      <td>NaN</td>\n",
       "      <td>NaN</td>\n",
       "      <td>NaN</td>\n",
       "      <td>NaN</td>\n",
       "    </tr>\n",
       "    <tr>\n",
       "      <th>65113</th>\n",
       "      <td>AZ</td>\n",
       "      <td>13877</td>\n",
       "      <td>13877AZ0070002</td>\n",
       "      <td>17</td>\n",
       "      <td>232.28</td>\n",
       "      <td>NaN</td>\n",
       "      <td>NaN</td>\n",
       "      <td>NaN</td>\n",
       "      <td>NaN</td>\n",
       "      <td>NaN</td>\n",
       "      <td>NaN</td>\n",
       "      <td>NaN</td>\n",
       "    </tr>\n",
       "    <tr>\n",
       "      <th>65114</th>\n",
       "      <td>AZ</td>\n",
       "      <td>13877</td>\n",
       "      <td>13877AZ0070002</td>\n",
       "      <td>18</td>\n",
       "      <td>239.63</td>\n",
       "      <td>NaN</td>\n",
       "      <td>NaN</td>\n",
       "      <td>NaN</td>\n",
       "      <td>NaN</td>\n",
       "      <td>NaN</td>\n",
       "      <td>NaN</td>\n",
       "      <td>NaN</td>\n",
       "    </tr>\n",
       "  </tbody>\n",
       "</table>\n",
       "</div>"
      ],
      "text/plain": [
       "      StateCode  IssuerId          PlanId   Age  IndividualRate  Couple   \n",
       "65110        AZ     13877  13877AZ0070002  0-14          200.78     NaN  \\\n",
       "65111        AZ     13877  13877AZ0070002    15          218.63     NaN   \n",
       "65112        AZ     13877  13877AZ0070002    16          225.45     NaN   \n",
       "65113        AZ     13877  13877AZ0070002    17          232.28     NaN   \n",
       "65114        AZ     13877  13877AZ0070002    18          239.63     NaN   \n",
       "\n",
       "       PrimarySubscriberAndOneDependent  PrimarySubscriberAndTwoDependents   \n",
       "65110                               NaN                                NaN  \\\n",
       "65111                               NaN                                NaN   \n",
       "65112                               NaN                                NaN   \n",
       "65113                               NaN                                NaN   \n",
       "65114                               NaN                                NaN   \n",
       "\n",
       "       PrimarySubscriberAndThreeOrMoreDependents  CoupleAndOneDependent   \n",
       "65110                                        NaN                    NaN  \\\n",
       "65111                                        NaN                    NaN   \n",
       "65112                                        NaN                    NaN   \n",
       "65113                                        NaN                    NaN   \n",
       "65114                                        NaN                    NaN   \n",
       "\n",
       "       CoupleAndTwoDependents  CoupleAndThreeOrMoreDependents  \n",
       "65110                     NaN                             NaN  \n",
       "65111                     NaN                             NaN  \n",
       "65112                     NaN                             NaN  \n",
       "65113                     NaN                             NaN  \n",
       "65114                     NaN                             NaN  "
      ]
     },
     "execution_count": 259,
     "metadata": {},
     "output_type": "execute_result"
    }
   ],
   "source": [
    "Rate.head()"
   ]
  },
  {
   "cell_type": "code",
   "execution_count": 260,
   "metadata": {},
   "outputs": [],
   "source": [
    "Plan_Attributes = Plan_Attributes[Plan_Attributes.StandardComponentId.isin(Business_Rules.StandardComponentId)]"
   ]
  },
  {
   "cell_type": "code",
   "execution_count": 261,
   "metadata": {},
   "outputs": [
    {
     "data": {
      "text/plain": [
       "array(['AZ', 'FL', 'GA', 'IL', 'MI', 'NC', 'OH', 'TN', 'TX', 'VA'],\n",
       "      dtype=object)"
      ]
     },
     "execution_count": 261,
     "metadata": {},
     "output_type": "execute_result"
    }
   ],
   "source": [
    "Plan_Attributes.StateCode.unique()"
   ]
  },
  {
   "cell_type": "code",
   "execution_count": 262,
   "metadata": {},
   "outputs": [
    {
     "data": {
      "text/plain": [
       "array(['Allows Adult and Child-Only', 'Allows Child-Only',\n",
       "       'Allows Adult-Only'], dtype=object)"
      ]
     },
     "execution_count": 262,
     "metadata": {},
     "output_type": "execute_result"
    }
   ],
   "source": [
    "Plan_Attributes.ChildOnlyOffering.unique()"
   ]
  },
  {
   "cell_type": "code",
   "execution_count": 263,
   "metadata": {},
   "outputs": [],
   "source": [
    "Benefits_CostSharing = Benefits_CostSharing[Benefits_CostSharing.StandardComponentId.isin(Business_Rules.StandardComponentId)]"
   ]
  },
  {
   "cell_type": "code",
   "execution_count": 264,
   "metadata": {},
   "outputs": [
    {
     "data": {
      "text/plain": [
       "array(['No Charge after deductible', nan, 'No Charge'], dtype=object)"
      ]
     },
     "execution_count": 264,
     "metadata": {},
     "output_type": "execute_result"
    }
   ],
   "source": [
    "Benefits_CostSharing[Benefits_CostSharing[\"PlanId\"] == \"19898FL0340008-01\"][\"CopayInnTier1\"].unique()"
   ]
  },
  {
   "cell_type": "code",
   "execution_count": 265,
   "metadata": {},
   "outputs": [
    {
     "data": {
      "text/html": [
       "<div>\n",
       "<style scoped>\n",
       "    .dataframe tbody tr th:only-of-type {\n",
       "        vertical-align: middle;\n",
       "    }\n",
       "\n",
       "    .dataframe tbody tr th {\n",
       "        vertical-align: top;\n",
       "    }\n",
       "\n",
       "    .dataframe thead th {\n",
       "        text-align: right;\n",
       "    }\n",
       "</style>\n",
       "<table border=\"1\" class=\"dataframe\">\n",
       "  <thead>\n",
       "    <tr style=\"text-align: right;\">\n",
       "      <th></th>\n",
       "      <th>StateCode</th>\n",
       "      <th>StateName</th>\n",
       "    </tr>\n",
       "  </thead>\n",
       "  <tbody>\n",
       "    <tr>\n",
       "      <th>0</th>\n",
       "      <td>AZ</td>\n",
       "      <td>Arizona</td>\n",
       "    </tr>\n",
       "    <tr>\n",
       "      <th>1</th>\n",
       "      <td>FL</td>\n",
       "      <td>Florida</td>\n",
       "    </tr>\n",
       "    <tr>\n",
       "      <th>2</th>\n",
       "      <td>GA</td>\n",
       "      <td>Georgia</td>\n",
       "    </tr>\n",
       "    <tr>\n",
       "      <th>3</th>\n",
       "      <td>IL</td>\n",
       "      <td>Illinois</td>\n",
       "    </tr>\n",
       "    <tr>\n",
       "      <th>4</th>\n",
       "      <td>MI</td>\n",
       "      <td>Michigan</td>\n",
       "    </tr>\n",
       "    <tr>\n",
       "      <th>5</th>\n",
       "      <td>NC</td>\n",
       "      <td>NorthCarolina</td>\n",
       "    </tr>\n",
       "    <tr>\n",
       "      <th>6</th>\n",
       "      <td>OH</td>\n",
       "      <td>Ohio</td>\n",
       "    </tr>\n",
       "    <tr>\n",
       "      <th>7</th>\n",
       "      <td>TN</td>\n",
       "      <td>Tennessee</td>\n",
       "    </tr>\n",
       "    <tr>\n",
       "      <th>8</th>\n",
       "      <td>TX</td>\n",
       "      <td>Texas</td>\n",
       "    </tr>\n",
       "    <tr>\n",
       "      <th>9</th>\n",
       "      <td>VA</td>\n",
       "      <td>Virginia</td>\n",
       "    </tr>\n",
       "  </tbody>\n",
       "</table>\n",
       "</div>"
      ],
      "text/plain": [
       "  StateCode      StateName\n",
       "0        AZ        Arizona\n",
       "1        FL        Florida\n",
       "2        GA        Georgia\n",
       "3        IL       Illinois\n",
       "4        MI       Michigan\n",
       "5        NC  NorthCarolina\n",
       "6        OH           Ohio\n",
       "7        TN      Tennessee\n",
       "8        TX          Texas\n",
       "9        VA       Virginia"
      ]
     },
     "execution_count": 265,
     "metadata": {},
     "output_type": "execute_result"
    }
   ],
   "source": [
    "state = {'StateCode': ['AZ', 'FL', 'GA', 'IL', 'MI', 'NC', 'OH', 'TN', 'TX', 'VA'], 'StateName': [\"Arizona\", \"Florida\", \"Georgia\", \"Illinois\", \"Michigan\", \"NorthCarolina\", \"Ohio\", \"Tennessee\", \"Texas\", \"Virginia\"]}\n",
    "state = pd.DataFrame(data=state)\n",
    "state"
   ]
  },
  {
   "attachments": {},
   "cell_type": "markdown",
   "metadata": {},
   "source": [
    "Proceso de imputaciones"
   ]
  },
  {
   "cell_type": "code",
   "execution_count": 266,
   "metadata": {},
   "outputs": [
    {
     "data": {
      "text/plain": [
       "array(['Yes', nan], dtype=object)"
      ]
     },
     "execution_count": 266,
     "metadata": {},
     "output_type": "execute_result"
    }
   ],
   "source": [
    "Benefits_CostSharing.IsEHB.unique()"
   ]
  },
  {
   "cell_type": "code",
   "execution_count": 267,
   "metadata": {},
   "outputs": [],
   "source": [
    "Benefits_CostSharing = Benefits_CostSharing.fillna(\"No\")"
   ]
  },
  {
   "cell_type": "code",
   "execution_count": 268,
   "metadata": {},
   "outputs": [
    {
     "data": {
      "text/plain": [
       "array(['Yes', 'No'], dtype=object)"
      ]
     },
     "execution_count": 268,
     "metadata": {},
     "output_type": "execute_result"
    }
   ],
   "source": [
    "Benefits_CostSharing.IsEHB.unique()"
   ]
  },
  {
   "cell_type": "code",
   "execution_count": 269,
   "metadata": {},
   "outputs": [
    {
     "name": "stdout",
     "output_type": "stream",
     "text": [
      "DiseaseManagementProgramsOffered  2664\n",
      "EHBPercentTotalPremium  276\n",
      "IssuerActuarialValue  12498\n",
      "IsHSAEligible         128\n"
     ]
    }
   ],
   "source": [
    "for i in Plan_Attributes.columns:\n",
    "    nas = Plan_Attributes[i].isna().sum()\n",
    "    if nas>0:\n",
    "        print(\"{0:<20}  {1}\".format(i,nas))"
   ]
  },
  {
   "cell_type": "code",
   "execution_count": 270,
   "metadata": {},
   "outputs": [],
   "source": [
    "Plan_Attributes.fillna({'IsHSAEligible': \"No\"}, inplace=True)"
   ]
  },
  {
   "cell_type": "code",
   "execution_count": 271,
   "metadata": {},
   "outputs": [
    {
     "name": "stdout",
     "output_type": "stream",
     "text": [
      "DiseaseManagementProgramsOffered  2664\n",
      "EHBPercentTotalPremium  276\n",
      "IssuerActuarialValue  12498\n"
     ]
    }
   ],
   "source": [
    "for i in Plan_Attributes.columns:\n",
    "    nas = Plan_Attributes[i].isna().sum()\n",
    "    if nas>0:\n",
    "        print(\"{0:<20}  {1}\".format(i,nas))"
   ]
  },
  {
   "cell_type": "code",
   "execution_count": 272,
   "metadata": {},
   "outputs": [
    {
     "data": {
      "text/plain": [
       "StateCode                            object\n",
       "IssuerId                              int64\n",
       "IssuerMarketPlaceMarketingName       object\n",
       "MarketCoverage                       object\n",
       "StandardComponentId                  object\n",
       "PlanMarketingName                    object\n",
       "IsNewPlan                            object\n",
       "MetalLevel                           object\n",
       "ChildOnlyOffering                    object\n",
       "DiseaseManagementProgramsOffered     object\n",
       "EHBPercentTotalPremium              float64\n",
       "PlanId                               object\n",
       "IssuerActuarialValue                float64\n",
       "IsHSAEligible                        object\n",
       "dtype: object"
      ]
     },
     "execution_count": 272,
     "metadata": {},
     "output_type": "execute_result"
    }
   ],
   "source": [
    "Plan_Attributes['IssuerActuarialValue'] = Plan_Attributes.iloc[:,12:-1].apply(lambda x: x.str.replace('%', '')).astype(float)\n",
    "Plan_Attributes.dtypes"
   ]
  },
  {
   "cell_type": "code",
   "execution_count": 273,
   "metadata": {},
   "outputs": [],
   "source": [
    "Plan_Attributes.loc[Plan_Attributes['MetalLevel'] == 'Catastrophic', 'IssuerActuarialValue'] = Plan_Attributes.loc[Plan_Attributes['MetalLevel'] == 'Catastrophic', 'IssuerActuarialValue'].fillna(Plan_Attributes[Plan_Attributes['MetalLevel'] == 'Catastrophic']['IssuerActuarialValue'].mean())\n",
    "Plan_Attributes.loc[Plan_Attributes['MetalLevel'] == 'Bronze', 'IssuerActuarialValue'] = Plan_Attributes.loc[Plan_Attributes['MetalLevel'] == 'Bronze', 'IssuerActuarialValue'].fillna(Plan_Attributes[Plan_Attributes['MetalLevel'] == 'Bronze']['IssuerActuarialValue'].mean())\n",
    "Plan_Attributes.loc[Plan_Attributes['MetalLevel'] == 'Expanded Bronze', 'IssuerActuarialValue'] = Plan_Attributes.loc[Plan_Attributes['MetalLevel'] == 'Expanded Bronze', 'IssuerActuarialValue'].fillna(Plan_Attributes[Plan_Attributes['MetalLevel'] == 'Expanded Bronze']['IssuerActuarialValue'].mean())\n",
    "Plan_Attributes.loc[Plan_Attributes['MetalLevel'] == 'Gold', 'IssuerActuarialValue'] = Plan_Attributes.loc[Plan_Attributes['MetalLevel'] == 'Gold', 'IssuerActuarialValue'].fillna(Plan_Attributes[Plan_Attributes['MetalLevel'] == 'Gold']['IssuerActuarialValue'].mean())\n",
    "Plan_Attributes.loc[Plan_Attributes['MetalLevel'] == 'Silver', 'IssuerActuarialValue'] = Plan_Attributes.loc[Plan_Attributes['MetalLevel'] == 'Silver', 'IssuerActuarialValue'].fillna(Plan_Attributes[Plan_Attributes['MetalLevel'] == 'Silver']['IssuerActuarialValue'].mean())\n",
    "Plan_Attributes.loc[Plan_Attributes['MetalLevel'] == 'Platinum', 'IssuerActuarialValue'] = Plan_Attributes.loc[Plan_Attributes['MetalLevel'] == 'Platinum', 'IssuerActuarialValue'].fillna(Plan_Attributes[Plan_Attributes['MetalLevel'] == 'Platinum']['IssuerActuarialValue'].mean())\n",
    "Plan_Attributes.loc[Plan_Attributes['MetalLevel'] == 'Low', 'IssuerActuarialValue'] = Plan_Attributes.loc[Plan_Attributes['MetalLevel'] == 'Low', 'IssuerActuarialValue'].fillna(Plan_Attributes[Plan_Attributes['MetalLevel'] == 'Low']['IssuerActuarialValue'].mean())\n",
    "Plan_Attributes.loc[Plan_Attributes['MetalLevel'] == 'High', 'IssuerActuarialValue'] = Plan_Attributes.loc[Plan_Attributes['MetalLevel'] == 'High', 'IssuerActuarialValue'].fillna(Plan_Attributes[Plan_Attributes['MetalLevel'] == 'High']['IssuerActuarialValue'].mean())"
   ]
  },
  {
   "cell_type": "code",
   "execution_count": 274,
   "metadata": {},
   "outputs": [
    {
     "data": {
      "text/plain": [
       "array(['Catastrophic', 'High'], dtype=object)"
      ]
     },
     "execution_count": 274,
     "metadata": {},
     "output_type": "execute_result"
    }
   ],
   "source": [
    "Plan_Attributes[Plan_Attributes[\"IssuerActuarialValue\"].isna()][\"MetalLevel\"].unique()"
   ]
  },
  {
   "cell_type": "code",
   "execution_count": 275,
   "metadata": {},
   "outputs": [
    {
     "name": "stdout",
     "output_type": "stream",
     "text": [
      "DiseaseManagementProgramsOffered  2664\n",
      "EHBPercentTotalPremium  276\n",
      "IssuerActuarialValue  307\n"
     ]
    }
   ],
   "source": [
    "for i in Plan_Attributes.columns:\n",
    "    nas = Plan_Attributes[i].isna().sum()\n",
    "    if nas>0:\n",
    "        print(\"{0:<20}  {1}\".format(i,nas))"
   ]
  },
  {
   "cell_type": "code",
   "execution_count": 276,
   "metadata": {},
   "outputs": [],
   "source": [
    "Plan_Attributes.fillna({'IssuerActuarialValue': 0.0}, inplace=True)"
   ]
  },
  {
   "cell_type": "code",
   "execution_count": 277,
   "metadata": {},
   "outputs": [
    {
     "name": "stdout",
     "output_type": "stream",
     "text": [
      "DiseaseManagementProgramsOffered  2664\n",
      "EHBPercentTotalPremium  276\n"
     ]
    }
   ],
   "source": [
    "for i in Plan_Attributes.columns:\n",
    "    nas = Plan_Attributes[i].isna().sum()\n",
    "    if nas>0:\n",
    "        print(\"{0:<20}  {1}\".format(i,nas))"
   ]
  },
  {
   "cell_type": "code",
   "execution_count": 278,
   "metadata": {},
   "outputs": [],
   "source": [
    "Plan_Attributes.fillna({'EHBPercentTotalPremium': Plan_Attributes[\"EHBPercentTotalPremium\"].mean()}, inplace=True)"
   ]
  },
  {
   "cell_type": "code",
   "execution_count": 279,
   "metadata": {},
   "outputs": [
    {
     "name": "stdout",
     "output_type": "stream",
     "text": [
      "DiseaseManagementProgramsOffered  2664\n"
     ]
    }
   ],
   "source": [
    "for i in Plan_Attributes.columns:\n",
    "    nas = Plan_Attributes[i].isna().sum()\n",
    "    if nas>0:\n",
    "        print(\"{0:<20}  {1}\".format(i,nas))"
   ]
  },
  {
   "cell_type": "code",
   "execution_count": 280,
   "metadata": {},
   "outputs": [],
   "source": [
    "Plan_Attributes.fillna({'DiseaseManagementProgramsOffered': \"\"}, inplace=True)"
   ]
  },
  {
   "cell_type": "code",
   "execution_count": 281,
   "metadata": {},
   "outputs": [],
   "source": [
    "for i in Plan_Attributes.columns:\n",
    "    nas = Plan_Attributes[i].isna().sum()\n",
    "    if nas>0:\n",
    "        print(\"{0:<20}  {1}\".format(i,nas))"
   ]
  },
  {
   "cell_type": "code",
   "execution_count": 282,
   "metadata": {},
   "outputs": [
    {
     "name": "stdout",
     "output_type": "stream",
     "text": [
      "Couple                1209465\n",
      "PrimarySubscriberAndOneDependent  1209465\n",
      "PrimarySubscriberAndTwoDependents  1209465\n",
      "PrimarySubscriberAndThreeOrMoreDependents  1209465\n",
      "CoupleAndOneDependent  1209465\n",
      "CoupleAndTwoDependents  1209465\n",
      "CoupleAndThreeOrMoreDependents  1209465\n"
     ]
    }
   ],
   "source": [
    "for i in Rate.columns:\n",
    "    nas = Rate[i].isna().sum()\n",
    "    if nas>0:\n",
    "        print(\"{0:<20}  {1}\".format(i,nas))"
   ]
  },
  {
   "cell_type": "code",
   "execution_count": 283,
   "metadata": {},
   "outputs": [
    {
     "data": {
      "text/plain": [
       "array(['0-14', '15', '16', '17', '18', '19', '20', '21', '22', '23', '24',\n",
       "       '25', '26', '27', '28', '29', '30', '31', '32', '33', '34', '35',\n",
       "       '36', '37', '38', '39', '40', '41', '42', '43', '44', '45', '46',\n",
       "       '47', '48', '49', '50', '51', '52', '53', '54', '55', '56', '57',\n",
       "       '58', '59', '60', '61', '62', '63', '64 and over'], dtype=object)"
      ]
     },
     "execution_count": 283,
     "metadata": {},
     "output_type": "execute_result"
    }
   ],
   "source": [
    "Rate.Age.unique()"
   ]
  },
  {
   "cell_type": "code",
   "execution_count": 284,
   "metadata": {},
   "outputs": [],
   "source": [
    "Rate.loc[Rate['Age'] == '0-14', 'Age'] = '14'\n",
    "Rate.loc[Rate['Age'] == '64 and over', 'Age'] = '64'"
   ]
  },
  {
   "cell_type": "code",
   "execution_count": 285,
   "metadata": {},
   "outputs": [
    {
     "data": {
      "text/plain": [
       "array([14, 15, 16, 17, 18, 19, 20, 21, 22, 23, 24, 25, 26, 27, 28, 29, 30,\n",
       "       31, 32, 33, 34, 35, 36, 37, 38, 39, 40, 41, 42, 43, 44, 45, 46, 47,\n",
       "       48, 49, 50, 51, 52, 53, 54, 55, 56, 57, 58, 59, 60, 61, 62, 63, 64])"
      ]
     },
     "execution_count": 285,
     "metadata": {},
     "output_type": "execute_result"
    }
   ],
   "source": [
    "Rate['Age'] = Rate['Age'].astype(int)\n",
    "Rate.Age.unique()\n"
   ]
  },
  {
   "attachments": {},
   "cell_type": "markdown",
   "metadata": {},
   "source": [
    "* análisis corto"
   ]
  },
  {
   "cell_type": "code",
   "execution_count": 286,
   "metadata": {},
   "outputs": [
    {
     "data": {
      "text/plain": [
       "array(['Expanded Bronze', 'Silver', 'Catastrophic', 'Gold', 'Bronze',\n",
       "       'Platinum', 'Low', 'High'], dtype=object)"
      ]
     },
     "execution_count": 286,
     "metadata": {},
     "output_type": "execute_result"
    }
   ],
   "source": [
    "Plan_Attributes.MetalLevel.unique()"
   ]
  },
  {
   "cell_type": "code",
   "execution_count": 287,
   "metadata": {},
   "outputs": [],
   "source": [
    "# orden peor a mejor\n",
    "# Catastrophic: 0.0\n",
    "# High: 0.0\n",
    "# Low: 70.152\n",
    "# Bronze: 70.6125\n",
    "# Expanded Bronze: 73.154\n",
    "# Silver: 80.967\n",
    "# Gold: 84.588\n",
    "# Platinum: 92.965\n",
    "#Plan_Attributes[(Plan_Attributes['MetalLevel'] == \"Platinum\")][\"IssuerActuarialValue\"].mean()#& (~Plan_Attributes['IssuerActuarialValue'].isna())]"
   ]
  },
  {
   "cell_type": "code",
   "execution_count": 295,
   "metadata": {},
   "outputs": [
    {
     "data": {
      "text/plain": [
       "3941"
      ]
     },
     "execution_count": 295,
     "metadata": {},
     "output_type": "execute_result"
    }
   ],
   "source": [
    "Business_Rules.StandardComponentId.nunique()"
   ]
  },
  {
   "cell_type": "code",
   "execution_count": 297,
   "metadata": {},
   "outputs": [
    {
     "data": {
      "text/plain": [
       "19188"
      ]
     },
     "execution_count": 297,
     "metadata": {},
     "output_type": "execute_result"
    }
   ],
   "source": [
    "Plan_Attributes.PlanId.nunique()"
   ]
  },
  {
   "cell_type": "code",
   "execution_count": null,
   "metadata": {},
   "outputs": [],
   "source": [
    "# SELECE BR.StateCode, BR.StandardComponentId, PA.PlanId, PA.MetalLevel, \n",
    "    # PA.PlanMarketingName, PA.IsNewPlan, BA.MaximumUnderageDependent, BA.MarketCoverge, \n",
    "    # PA.ChildOnlyOffering, PA.DiseaseManagementProgramsOffered, PA.EHBPercentTotalPremium, PA.IsHSAEligible\n",
    "# FROM Business_Rule BR\n",
    "# JOIN Plan_Attributes PA\n",
    "# ON BR.StandardComponentId = PA.StandardComponentId"
   ]
  },
  {
   "cell_type": "code",
   "execution_count": 305,
   "metadata": {},
   "outputs": [],
   "source": [
    "Planes = Business_Rules.merge(Plan_Attributes,left_on='StandardComponentId', right_on='StandardComponentId', how='inner')[[\"StateCode_x\", \"StandardComponentId\", \"PlanId\", \"MetalLevel\",  \"PlanMarketingName\", \"IsNewPlan\", \"MaximumUnderageDependent\", \"MarketCoverage_y\", \"ChildOnlyOffering\", \"DiseaseManagementProgramsOffered\", \"EHBPercentTotalPremium\", \"IsHSAEligible\"]]"
   ]
  },
  {
   "cell_type": "code",
   "execution_count": 306,
   "metadata": {},
   "outputs": [
    {
     "data": {
      "text/html": [
       "<div>\n",
       "<style scoped>\n",
       "    .dataframe tbody tr th:only-of-type {\n",
       "        vertical-align: middle;\n",
       "    }\n",
       "\n",
       "    .dataframe tbody tr th {\n",
       "        vertical-align: top;\n",
       "    }\n",
       "\n",
       "    .dataframe thead th {\n",
       "        text-align: right;\n",
       "    }\n",
       "</style>\n",
       "<table border=\"1\" class=\"dataframe\">\n",
       "  <thead>\n",
       "    <tr style=\"text-align: right;\">\n",
       "      <th></th>\n",
       "      <th>StateCode_x</th>\n",
       "      <th>StandardComponentId</th>\n",
       "      <th>PlanId</th>\n",
       "      <th>MetalLevel</th>\n",
       "      <th>PlanMarketingName</th>\n",
       "      <th>IsNewPlan</th>\n",
       "      <th>MaximumUnderageDependent</th>\n",
       "      <th>MarketCoverage_y</th>\n",
       "      <th>ChildOnlyOffering</th>\n",
       "      <th>DiseaseManagementProgramsOffered</th>\n",
       "      <th>EHBPercentTotalPremium</th>\n",
       "      <th>IsHSAEligible</th>\n",
       "    </tr>\n",
       "  </thead>\n",
       "  <tbody>\n",
       "    <tr>\n",
       "      <th>0</th>\n",
       "      <td>AZ</td>\n",
       "      <td>13877AZ0070002</td>\n",
       "      <td>13877AZ0070002-01</td>\n",
       "      <td>Expanded Bronze</td>\n",
       "      <td>Bronze Classic- PCP Saver</td>\n",
       "      <td>Existing</td>\n",
       "      <td>3</td>\n",
       "      <td>Individual</td>\n",
       "      <td>Allows Adult and Child-Only</td>\n",
       "      <td>Asthma, Heart Disease, Depression, Diabetes, H...</td>\n",
       "      <td>1.0000</td>\n",
       "      <td>No</td>\n",
       "    </tr>\n",
       "    <tr>\n",
       "      <th>1</th>\n",
       "      <td>AZ</td>\n",
       "      <td>13877AZ0070002</td>\n",
       "      <td>13877AZ0070002-02</td>\n",
       "      <td>Expanded Bronze</td>\n",
       "      <td>Bronze Classic- PCP Saver</td>\n",
       "      <td>Existing</td>\n",
       "      <td>3</td>\n",
       "      <td>Individual</td>\n",
       "      <td>Allows Adult and Child-Only</td>\n",
       "      <td>Asthma, Heart Disease, Depression, Diabetes, H...</td>\n",
       "      <td>1.0000</td>\n",
       "      <td>No</td>\n",
       "    </tr>\n",
       "    <tr>\n",
       "      <th>2</th>\n",
       "      <td>AZ</td>\n",
       "      <td>13877AZ0070002</td>\n",
       "      <td>13877AZ0070002-00</td>\n",
       "      <td>Expanded Bronze</td>\n",
       "      <td>Bronze Classic- PCP Saver</td>\n",
       "      <td>Existing</td>\n",
       "      <td>3</td>\n",
       "      <td>Individual</td>\n",
       "      <td>Allows Adult and Child-Only</td>\n",
       "      <td>Asthma, Heart Disease, Depression, Diabetes, H...</td>\n",
       "      <td>1.0000</td>\n",
       "      <td>No</td>\n",
       "    </tr>\n",
       "    <tr>\n",
       "      <th>3</th>\n",
       "      <td>AZ</td>\n",
       "      <td>13877AZ0070002</td>\n",
       "      <td>13877AZ0070002-03</td>\n",
       "      <td>Expanded Bronze</td>\n",
       "      <td>Bronze Classic- PCP Saver</td>\n",
       "      <td>Existing</td>\n",
       "      <td>3</td>\n",
       "      <td>Individual</td>\n",
       "      <td>Allows Adult and Child-Only</td>\n",
       "      <td>Asthma, Heart Disease, Depression, Diabetes, H...</td>\n",
       "      <td>1.0000</td>\n",
       "      <td>No</td>\n",
       "    </tr>\n",
       "    <tr>\n",
       "      <th>4</th>\n",
       "      <td>AZ</td>\n",
       "      <td>13877AZ0070003</td>\n",
       "      <td>13877AZ0070003-01</td>\n",
       "      <td>Expanded Bronze</td>\n",
       "      <td>Bronze Classic</td>\n",
       "      <td>Existing</td>\n",
       "      <td>3</td>\n",
       "      <td>Individual</td>\n",
       "      <td>Allows Adult and Child-Only</td>\n",
       "      <td>Asthma, Heart Disease, Depression, Diabetes, H...</td>\n",
       "      <td>1.0000</td>\n",
       "      <td>No</td>\n",
       "    </tr>\n",
       "    <tr>\n",
       "      <th>...</th>\n",
       "      <td>...</td>\n",
       "      <td>...</td>\n",
       "      <td>...</td>\n",
       "      <td>...</td>\n",
       "      <td>...</td>\n",
       "      <td>...</td>\n",
       "      <td>...</td>\n",
       "      <td>...</td>\n",
       "      <td>...</td>\n",
       "      <td>...</td>\n",
       "      <td>...</td>\n",
       "      <td>...</td>\n",
       "    </tr>\n",
       "    <tr>\n",
       "      <th>19183</th>\n",
       "      <td>VA</td>\n",
       "      <td>95185VA0530023</td>\n",
       "      <td>95185VA0530023-06</td>\n",
       "      <td>Silver</td>\n",
       "      <td>KP VA Standard Silver 5800/40/Vision</td>\n",
       "      <td>New</td>\n",
       "      <td>3</td>\n",
       "      <td>Individual</td>\n",
       "      <td>Allows Adult and Child-Only</td>\n",
       "      <td>Asthma, Heart Disease, Depression, Diabetes, H...</td>\n",
       "      <td>0.9887</td>\n",
       "      <td>No</td>\n",
       "    </tr>\n",
       "    <tr>\n",
       "      <th>19184</th>\n",
       "      <td>VA</td>\n",
       "      <td>95185VA0530024</td>\n",
       "      <td>95185VA0530024-03</td>\n",
       "      <td>Expanded Bronze</td>\n",
       "      <td>KP VA Standard Expanded Bronze 7500/50/Vision</td>\n",
       "      <td>New</td>\n",
       "      <td>3</td>\n",
       "      <td>Individual</td>\n",
       "      <td>Allows Adult and Child-Only</td>\n",
       "      <td>Asthma, Heart Disease, Depression, Diabetes, H...</td>\n",
       "      <td>0.9887</td>\n",
       "      <td>No</td>\n",
       "    </tr>\n",
       "    <tr>\n",
       "      <th>19185</th>\n",
       "      <td>VA</td>\n",
       "      <td>95185VA0530024</td>\n",
       "      <td>95185VA0530024-02</td>\n",
       "      <td>Expanded Bronze</td>\n",
       "      <td>KP VA Standard Expanded Bronze 7500/50/Vision</td>\n",
       "      <td>New</td>\n",
       "      <td>3</td>\n",
       "      <td>Individual</td>\n",
       "      <td>Allows Adult and Child-Only</td>\n",
       "      <td>Asthma, Heart Disease, Depression, Diabetes, H...</td>\n",
       "      <td>0.9887</td>\n",
       "      <td>No</td>\n",
       "    </tr>\n",
       "    <tr>\n",
       "      <th>19186</th>\n",
       "      <td>VA</td>\n",
       "      <td>95185VA0530024</td>\n",
       "      <td>95185VA0530024-00</td>\n",
       "      <td>Expanded Bronze</td>\n",
       "      <td>KP VA Standard Expanded Bronze 7500/50/Vision</td>\n",
       "      <td>New</td>\n",
       "      <td>3</td>\n",
       "      <td>Individual</td>\n",
       "      <td>Allows Adult and Child-Only</td>\n",
       "      <td>Asthma, Heart Disease, Depression, Diabetes, H...</td>\n",
       "      <td>0.9887</td>\n",
       "      <td>No</td>\n",
       "    </tr>\n",
       "    <tr>\n",
       "      <th>19187</th>\n",
       "      <td>VA</td>\n",
       "      <td>95185VA0530024</td>\n",
       "      <td>95185VA0530024-01</td>\n",
       "      <td>Expanded Bronze</td>\n",
       "      <td>KP VA Standard Expanded Bronze 7500/50/Vision</td>\n",
       "      <td>New</td>\n",
       "      <td>3</td>\n",
       "      <td>Individual</td>\n",
       "      <td>Allows Adult and Child-Only</td>\n",
       "      <td>Asthma, Heart Disease, Depression, Diabetes, H...</td>\n",
       "      <td>0.9887</td>\n",
       "      <td>No</td>\n",
       "    </tr>\n",
       "  </tbody>\n",
       "</table>\n",
       "<p>19188 rows × 12 columns</p>\n",
       "</div>"
      ],
      "text/plain": [
       "      StateCode_x StandardComponentId             PlanId       MetalLevel   \n",
       "0              AZ      13877AZ0070002  13877AZ0070002-01  Expanded Bronze  \\\n",
       "1              AZ      13877AZ0070002  13877AZ0070002-02  Expanded Bronze   \n",
       "2              AZ      13877AZ0070002  13877AZ0070002-00  Expanded Bronze   \n",
       "3              AZ      13877AZ0070002  13877AZ0070002-03  Expanded Bronze   \n",
       "4              AZ      13877AZ0070003  13877AZ0070003-01  Expanded Bronze   \n",
       "...           ...                 ...                ...              ...   \n",
       "19183          VA      95185VA0530023  95185VA0530023-06           Silver   \n",
       "19184          VA      95185VA0530024  95185VA0530024-03  Expanded Bronze   \n",
       "19185          VA      95185VA0530024  95185VA0530024-02  Expanded Bronze   \n",
       "19186          VA      95185VA0530024  95185VA0530024-00  Expanded Bronze   \n",
       "19187          VA      95185VA0530024  95185VA0530024-01  Expanded Bronze   \n",
       "\n",
       "                                   PlanMarketingName IsNewPlan   \n",
       "0                          Bronze Classic- PCP Saver  Existing  \\\n",
       "1                          Bronze Classic- PCP Saver  Existing   \n",
       "2                          Bronze Classic- PCP Saver  Existing   \n",
       "3                          Bronze Classic- PCP Saver  Existing   \n",
       "4                                     Bronze Classic  Existing   \n",
       "...                                              ...       ...   \n",
       "19183           KP VA Standard Silver 5800/40/Vision       New   \n",
       "19184  KP VA Standard Expanded Bronze 7500/50/Vision       New   \n",
       "19185  KP VA Standard Expanded Bronze 7500/50/Vision       New   \n",
       "19186  KP VA Standard Expanded Bronze 7500/50/Vision       New   \n",
       "19187  KP VA Standard Expanded Bronze 7500/50/Vision       New   \n",
       "\n",
       "      MaximumUnderageDependent MarketCoverage_y            ChildOnlyOffering   \n",
       "0                            3       Individual  Allows Adult and Child-Only  \\\n",
       "1                            3       Individual  Allows Adult and Child-Only   \n",
       "2                            3       Individual  Allows Adult and Child-Only   \n",
       "3                            3       Individual  Allows Adult and Child-Only   \n",
       "4                            3       Individual  Allows Adult and Child-Only   \n",
       "...                        ...              ...                          ...   \n",
       "19183                        3       Individual  Allows Adult and Child-Only   \n",
       "19184                        3       Individual  Allows Adult and Child-Only   \n",
       "19185                        3       Individual  Allows Adult and Child-Only   \n",
       "19186                        3       Individual  Allows Adult and Child-Only   \n",
       "19187                        3       Individual  Allows Adult and Child-Only   \n",
       "\n",
       "                        DiseaseManagementProgramsOffered   \n",
       "0      Asthma, Heart Disease, Depression, Diabetes, H...  \\\n",
       "1      Asthma, Heart Disease, Depression, Diabetes, H...   \n",
       "2      Asthma, Heart Disease, Depression, Diabetes, H...   \n",
       "3      Asthma, Heart Disease, Depression, Diabetes, H...   \n",
       "4      Asthma, Heart Disease, Depression, Diabetes, H...   \n",
       "...                                                  ...   \n",
       "19183  Asthma, Heart Disease, Depression, Diabetes, H...   \n",
       "19184  Asthma, Heart Disease, Depression, Diabetes, H...   \n",
       "19185  Asthma, Heart Disease, Depression, Diabetes, H...   \n",
       "19186  Asthma, Heart Disease, Depression, Diabetes, H...   \n",
       "19187  Asthma, Heart Disease, Depression, Diabetes, H...   \n",
       "\n",
       "       EHBPercentTotalPremium IsHSAEligible  \n",
       "0                      1.0000            No  \n",
       "1                      1.0000            No  \n",
       "2                      1.0000            No  \n",
       "3                      1.0000            No  \n",
       "4                      1.0000            No  \n",
       "...                       ...           ...  \n",
       "19183                  0.9887            No  \n",
       "19184                  0.9887            No  \n",
       "19185                  0.9887            No  \n",
       "19186                  0.9887            No  \n",
       "19187                  0.9887            No  \n",
       "\n",
       "[19188 rows x 12 columns]"
      ]
     },
     "execution_count": 306,
     "metadata": {},
     "output_type": "execute_result"
    }
   ],
   "source": [
    "Planes"
   ]
  },
  {
   "cell_type": "code",
   "execution_count": 316,
   "metadata": {},
   "outputs": [],
   "source": [
    "#select airport_ident, type, description, frequency_mhz from airport_freq join airports on airport_freq.airport_ref = airports.id where airports.ident = 'KLAX'\n",
    "#airport_freq.merge(airports[airports.ident == 'KLAX'][['id']], left_on='airport_ref', right_on='id', how='inner')[['airport_ident', 'type', 'description', 'frequency_mhz']]\n",
    "\n",
    "Planes_beneficios = Planes.merge(Benefits_CostSharing[Benefits_CostSharing[\"IsCovered\"] == 'Covered'], left_on=\"PlanId\", right_on=\"PlanId\", how='inner')[['PlanId', 'BenefitName', 'IsEHB', 'IsCovered']]"
   ]
  },
  {
   "cell_type": "code",
   "execution_count": 320,
   "metadata": {},
   "outputs": [
    {
     "name": "stdout",
     "output_type": "stream",
     "text": [
      "   Column1  Column2\n",
      "0        1        4\n",
      "1        2        5\n",
      "2        3        6\n"
     ]
    }
   ],
   "source": [
    "import pandas as pd\n",
    "\n",
    "# create a sample dataframe\n",
    "df = pd.DataFrame({'A': [1, 2, 3],\n",
    "                   'B': [4, 5, 6]})\n",
    "\n",
    "# rename the columns\n",
    "df = df.rename(columns={'A': 'Column1', 'B': 'Column2'})\n",
    "\n",
    "# print the renamed dataframe\n",
    "print(df)"
   ]
  },
  {
   "cell_type": "code",
   "execution_count": 321,
   "metadata": {},
   "outputs": [],
   "source": [
    "Rate = Rate.rename(columns={'PlanId': 'StandardComponentId_PlanId'})\n"
   ]
  },
  {
   "cell_type": "code",
   "execution_count": 323,
   "metadata": {},
   "outputs": [
    {
     "data": {
      "text/html": [
       "<div>\n",
       "<style scoped>\n",
       "    .dataframe tbody tr th:only-of-type {\n",
       "        vertical-align: middle;\n",
       "    }\n",
       "\n",
       "    .dataframe tbody tr th {\n",
       "        vertical-align: top;\n",
       "    }\n",
       "\n",
       "    .dataframe thead th {\n",
       "        text-align: right;\n",
       "    }\n",
       "</style>\n",
       "<table border=\"1\" class=\"dataframe\">\n",
       "  <thead>\n",
       "    <tr style=\"text-align: right;\">\n",
       "      <th></th>\n",
       "      <th>StandardComponentId</th>\n",
       "      <th>Age</th>\n",
       "      <th>IndividualRate</th>\n",
       "    </tr>\n",
       "  </thead>\n",
       "  <tbody>\n",
       "    <tr>\n",
       "      <th>0</th>\n",
       "      <td>13877AZ0070002</td>\n",
       "      <td>14</td>\n",
       "      <td>200.78</td>\n",
       "    </tr>\n",
       "    <tr>\n",
       "      <th>1</th>\n",
       "      <td>13877AZ0070002</td>\n",
       "      <td>15</td>\n",
       "      <td>218.63</td>\n",
       "    </tr>\n",
       "    <tr>\n",
       "      <th>2</th>\n",
       "      <td>13877AZ0070002</td>\n",
       "      <td>16</td>\n",
       "      <td>225.45</td>\n",
       "    </tr>\n",
       "    <tr>\n",
       "      <th>3</th>\n",
       "      <td>13877AZ0070002</td>\n",
       "      <td>17</td>\n",
       "      <td>232.28</td>\n",
       "    </tr>\n",
       "    <tr>\n",
       "      <th>4</th>\n",
       "      <td>13877AZ0070002</td>\n",
       "      <td>18</td>\n",
       "      <td>239.63</td>\n",
       "    </tr>\n",
       "    <tr>\n",
       "      <th>...</th>\n",
       "      <td>...</td>\n",
       "      <td>...</td>\n",
       "      <td>...</td>\n",
       "    </tr>\n",
       "    <tr>\n",
       "      <th>5303332</th>\n",
       "      <td>95185VA0530024</td>\n",
       "      <td>63</td>\n",
       "      <td>737.29</td>\n",
       "    </tr>\n",
       "    <tr>\n",
       "      <th>5303333</th>\n",
       "      <td>95185VA0530024</td>\n",
       "      <td>63</td>\n",
       "      <td>737.29</td>\n",
       "    </tr>\n",
       "    <tr>\n",
       "      <th>5303334</th>\n",
       "      <td>95185VA0530024</td>\n",
       "      <td>64</td>\n",
       "      <td>749.28</td>\n",
       "    </tr>\n",
       "    <tr>\n",
       "      <th>5303335</th>\n",
       "      <td>95185VA0530024</td>\n",
       "      <td>64</td>\n",
       "      <td>749.28</td>\n",
       "    </tr>\n",
       "    <tr>\n",
       "      <th>5303336</th>\n",
       "      <td>95185VA0530024</td>\n",
       "      <td>64</td>\n",
       "      <td>749.28</td>\n",
       "    </tr>\n",
       "  </tbody>\n",
       "</table>\n",
       "<p>5303337 rows × 3 columns</p>\n",
       "</div>"
      ],
      "text/plain": [
       "        StandardComponentId  Age  IndividualRate\n",
       "0            13877AZ0070002   14          200.78\n",
       "1            13877AZ0070002   15          218.63\n",
       "2            13877AZ0070002   16          225.45\n",
       "3            13877AZ0070002   17          232.28\n",
       "4            13877AZ0070002   18          239.63\n",
       "...                     ...  ...             ...\n",
       "5303332      95185VA0530024   63          737.29\n",
       "5303333      95185VA0530024   63          737.29\n",
       "5303334      95185VA0530024   64          749.28\n",
       "5303335      95185VA0530024   64          749.28\n",
       "5303336      95185VA0530024   64          749.28\n",
       "\n",
       "[5303337 rows x 3 columns]"
      ]
     },
     "execution_count": 323,
     "metadata": {},
     "output_type": "execute_result"
    }
   ],
   "source": [
    "Planes.merge(Rate,left_on=\"StandardComponentId\", right_on=\"StandardComponentId_PlanId\", how='inner')[[\"StandardComponentId\", 'Age', 'IndividualRate']]"
   ]
  },
  {
   "cell_type": "code",
   "execution_count": null,
   "metadata": {},
   "outputs": [],
   "source": [
    "#Proceso de determinar posibles planes\n",
    "rango 20-25 años\n",
    "rango 0-10,000 ingreso anual\n",
    "rango 0-833 ingreso mensual\n",
    "rango 0-83\n",
    "Obtener todos los StandardComponentid (unicos) que: (age>=20 y age<=25) y (IndivialRate>=0 y IndivialRate<=83)\n",
    "En la tabla planes, traer todos los planes de esos StandardComponentID \n",
    "\n",
    "# criterio para escoger el plan\n",
    "Se basa en lo que tiene la tabla Planes y Planes_beneficios"
   ]
  },
  {
   "attachments": {},
   "cell_type": "markdown",
   "metadata": {},
   "source": [
    "Insert de tablas en la base de datos"
   ]
  },
  {
   "cell_type": "code",
   "execution_count": 22,
   "metadata": {},
   "outputs": [],
   "source": [
    "import psycopg2\n",
    "import psycopg2.extras as extras\n",
    "import pandas as pd\n",
    "\n",
    "\n",
    "def execute_values(conn, df, table):\n",
    "\n",
    "\ttuples = [tuple(x) for x in df.to_numpy()]\n",
    "\n",
    "\tcols = ','.join(list(df.columns))\n",
    "\tfinish = True\n",
    "\tcoma = 0\n",
    "\tcont = 0\n",
    "\tcols_final = '\"'\n",
    "\tcols += \",\"\n",
    "\twhile(finish):\n",
    "\t\tcoma = cols.find(\",\", cont)\n",
    "\t\tif coma == -1:\n",
    "\t\t\tfinish = False\n",
    "\t\t\tcols_final = cols_final[:-2]\n",
    "\t\telse:\n",
    "\t\t\tvar = cols[cont:coma]\n",
    "\t\t\tcont = coma + 1\n",
    "\t\t\tcols_final += var\n",
    "\t\t\tcols_final += '\",\"'\n",
    "\n",
    "\n",
    "\tprint(cols_final)\n",
    "\t# SQL query to execute\n",
    "\tquery = \"INSERT INTO %s(%s) VALUES %%s\" % (table, cols_final)\n",
    "\tcursor = conn.cursor()\n",
    "\ttry:\n",
    "\t\textras.execute_values(cursor, query, tuples)\n",
    "\t\tconn.commit()\n",
    "\texcept (Exception, psycopg2.DatabaseError) as error:\n",
    "\t\tprint(\"Error: %s\" % error)\n",
    "\t\tconn.rollback()\n",
    "\t\tcursor.close()\n",
    "\t\treturn 1\n",
    "\tprint(\"execute_values() done\")\n",
    "\tcursor.close()"
   ]
  },
  {
   "attachments": {},
   "cell_type": "markdown",
   "metadata": {},
   "source": [
    "Insert tabla State"
   ]
  },
  {
   "cell_type": "code",
   "execution_count": 23,
   "metadata": {},
   "outputs": [
    {
     "name": "stdout",
     "output_type": "stream",
     "text": [
      "\"StateCode\",\"StateName\"\n",
      "execute_values() done\n"
     ]
    }
   ],
   "source": [
    "# establishing connection\n",
    "conn = psycopg2.connect(\n",
    "  database=\"proyectoBI\",\n",
    "  user='postgres', \n",
    "  password='admin', \n",
    "  host='localhost', \n",
    "  port= '5432'\n",
    ")\n",
    "sql = '''DELETE FROM public.\"States\";'''\n",
    "  \n",
    "#creating a cursor\n",
    "cursor = conn.cursor()\n",
    "cursor.execute(sql)\n",
    "conn.commit()\n",
    "data = state\n",
    "# using the function defined\n",
    "execute_values(conn, data, 'public.\"States\"')\n",
    "conn.close()"
   ]
  },
  {
   "attachments": {},
   "cell_type": "markdown",
   "metadata": {},
   "source": [
    "Insert tabla Bussiness Rules"
   ]
  },
  {
   "cell_type": "code",
   "execution_count": 32,
   "metadata": {},
   "outputs": [],
   "source": [
    "Business_Rules_prueba = Business_Rules[[\"StateCode\", \"IssuerId\", \"MedicalDentalBoth\",\"StandardComponentId\"]]\n",
    "Business_Rules = Business_Rules.drop(columns=['SourceName'])"
   ]
  },
  {
   "cell_type": "code",
   "execution_count": 34,
   "metadata": {},
   "outputs": [
    {
     "name": "stdout",
     "output_type": "stream",
     "text": [
      "\"StateCode\",\"IssuerId\",\"MedicalDentalBoth\",\"StandardComponentId\",\"MaximumUnderageDependent\",\"DependentMaximumAgRule\",\"MarketCoverage\",\"DentalOnlyPlan\"\n",
      "execute_values() done\n"
     ]
    }
   ],
   "source": [
    "# establishing connection\n",
    "conn = psycopg2.connect(\n",
    "  database=\"proyectoBI\",\n",
    "  user='postgres', \n",
    "  password='admin', \n",
    "  host='localhost', \n",
    "  port= '5432'\n",
    ")\n",
    "sql = '''DELETE FROM public.\"businessRules\";'''\n",
    "  \n",
    "#creating a cursor\n",
    "cursor = conn.cursor()\n",
    "cursor.execute(sql)\n",
    "conn.commit()\n",
    "data = Business_Rules\n",
    "# using the function defined\n",
    "execute_values(conn, data, 'public.\"businessRules\"')\n",
    "conn.close()"
   ]
  },
  {
   "attachments": {},
   "cell_type": "markdown",
   "metadata": {},
   "source": [
    "Insert tabla Benefits_CostSharing"
   ]
  },
  {
   "cell_type": "code",
   "execution_count": 36,
   "metadata": {},
   "outputs": [],
   "source": [
    "Benefits_CostSharing_prueba = Benefits_CostSharing[[\"StateCode\", \"IssuerId\", \"StandardComponentId\", \"PlanId\"]]\n",
    "Benefits_CostSharing = Benefits_CostSharing.drop(columns=['SourceName'])"
   ]
  },
  {
   "cell_type": "code",
   "execution_count": 38,
   "metadata": {},
   "outputs": [
    {
     "name": "stdout",
     "output_type": "stream",
     "text": [
      "\"StateCode\",\"IssuerId\",\"StandardComponentId\",\"PlanId\",\"BenefitName\",\"CopayInnTier1\",\"CopayInnTier2\",\"CopayOutofNet\",\"CoinsInnTier1\",\"CoinsInnTier2\",\"CoinsOutofNet\",\"IsEHB\",\"IsCovered\",\"QuantLimitOnSvc\",\"LimitQty\",\"LimitUnit\",\"Exclusions\"\n",
      "execute_values() done\n"
     ]
    }
   ],
   "source": [
    "# establishing connection\n",
    "conn = psycopg2.connect(\n",
    "  database=\"proyectoBI\",\n",
    "  user='postgres', \n",
    "  password='admin', \n",
    "  host='localhost', \n",
    "  port= '5432'\n",
    ")\n",
    "sql = '''DELETE FROM public.\"benefitsCostSharing\";'''\n",
    "  \n",
    "#creating a cursor\n",
    "cursor = conn.cursor()\n",
    "cursor.execute(sql)\n",
    "conn.commit()\n",
    "data = Benefits_CostSharing\n",
    "# using the function defined\n",
    "execute_values(conn, data, 'public.\"benefitsCostSharing\"')\n",
    "conn.close()"
   ]
  },
  {
   "attachments": {},
   "cell_type": "markdown",
   "metadata": {},
   "source": [
    "Insert tabla Rate"
   ]
  },
  {
   "cell_type": "code",
   "execution_count": 43,
   "metadata": {},
   "outputs": [
    {
     "data": {
      "text/plain": [
       "Index(['StateCode', 'IssuerId', 'PlanId', 'RatingAreaId', 'Tobacco', 'Age',\n",
       "       'IndividualRate', 'IndividualTobaccoRate', 'Couple',\n",
       "       'PrimarySubscriberAndOneDependent', 'PrimarySubscriberAndTwoDependents',\n",
       "       'PrimarySubscriberAndThreeOrMoreDependents', 'CoupleAndOneDependent',\n",
       "       'CoupleAndTwoDependents', 'CoupleAndThreeOrMoreDependents'],\n",
       "      dtype='object')"
      ]
     },
     "execution_count": 43,
     "metadata": {},
     "output_type": "execute_result"
    }
   ],
   "source": [
    "Rate.columns"
   ]
  },
  {
   "cell_type": "code",
   "execution_count": 42,
   "metadata": {},
   "outputs": [
    {
     "data": {
      "text/plain": [
       "StateCode                                     object\n",
       "IssuerId                                       int64\n",
       "PlanId                                        object\n",
       "RatingAreaId                                  object\n",
       "Tobacco                                       object\n",
       "Age                                           object\n",
       "IndividualRate                               float64\n",
       "IndividualTobaccoRate                        float64\n",
       "Couple                                       float64\n",
       "PrimarySubscriberAndOneDependent             float64\n",
       "PrimarySubscriberAndTwoDependents            float64\n",
       "PrimarySubscriberAndThreeOrMoreDependents    float64\n",
       "CoupleAndOneDependent                        float64\n",
       "CoupleAndTwoDependents                       float64\n",
       "CoupleAndThreeOrMoreDependents               float64\n",
       "dtype: object"
      ]
     },
     "execution_count": 42,
     "metadata": {},
     "output_type": "execute_result"
    }
   ],
   "source": [
    "Rate.dtypes"
   ]
  },
  {
   "cell_type": "code",
   "execution_count": 40,
   "metadata": {},
   "outputs": [],
   "source": [
    "Rate_prueba = Rate[[\"StateCode\", \"IssuerId\", \"PlanId\"]]\n",
    "Rate = Rate.drop(columns=['SourceName'])"
   ]
  },
  {
   "cell_type": "code",
   "execution_count": 53,
   "metadata": {},
   "outputs": [
    {
     "name": "stdout",
     "output_type": "stream",
     "text": [
      "\"StateCode\",\"IssuerId\",\"PlanId\",\"RatingAreaId\",\"Tobacco\",\"Age\",\"IndividualRate\",\"IndividualTobaccoRate\",\"Couple\",\"PrimarySubscriberAndOneDependent\",\"PrimarySubscriberAndTwoDependents\",\"PrimarySubscriberAndThreeOrMoreDependents\",\"CoupleAndOneDependent\",\"CoupleAndTwoDependents\",\"CoupleAndThreeOrMoreDependents\"\n",
      "execute_values() done\n"
     ]
    }
   ],
   "source": [
    "# establishing connection\n",
    "conn = psycopg2.connect(\n",
    "  database=\"proyectoBI\",\n",
    "  user='postgres', \n",
    "  password='admin', \n",
    "  host='localhost', \n",
    "  port= '5432'\n",
    ")\n",
    "sql = '''DELETE FROM public.\"Rate\";'''\n",
    "  \n",
    "#creating a cursor\n",
    "cursor = conn.cursor()\n",
    "cursor.execute(sql)\n",
    "conn.commit()\n",
    "data = Rate\n",
    "# using the function defined\n",
    "execute_values(conn, data, 'public.\"Rate\"')\n",
    "conn.close()"
   ]
  },
  {
   "attachments": {},
   "cell_type": "markdown",
   "metadata": {},
   "source": [
    "Insert tabla Plan Attributes"
   ]
  },
  {
   "cell_type": "code",
   "execution_count": 48,
   "metadata": {},
   "outputs": [
    {
     "data": {
      "text/plain": [
       "Index(['StateCode', 'IssuerId', 'IssuerMarketPlaceMarketingName',\n",
       "       'MarketCoverage', 'StandardComponentId', 'PlanMarketingName',\n",
       "       'IsNewPlan', 'PlanType', 'MetalLevel', 'ChildOnlyOffering',\n",
       "       'DiseaseManagementProgramsOffered', 'EHBPercentTotalPremium',\n",
       "       'PlanEffectiveDate', 'PlanExpirationDate', 'PlanId',\n",
       "       'IssuerActuarialValue', 'IsHSAEligible'],\n",
       "      dtype='object')"
      ]
     },
     "execution_count": 48,
     "metadata": {},
     "output_type": "execute_result"
    }
   ],
   "source": [
    "Plan_Attributes.columns"
   ]
  },
  {
   "cell_type": "code",
   "execution_count": 49,
   "metadata": {},
   "outputs": [
    {
     "data": {
      "text/plain": [
       "StateCode                            object\n",
       "IssuerId                              int64\n",
       "IssuerMarketPlaceMarketingName       object\n",
       "MarketCoverage                       object\n",
       "StandardComponentId                  object\n",
       "PlanMarketingName                    object\n",
       "IsNewPlan                            object\n",
       "PlanType                             object\n",
       "MetalLevel                           object\n",
       "ChildOnlyOffering                    object\n",
       "DiseaseManagementProgramsOffered     object\n",
       "EHBPercentTotalPremium              float64\n",
       "PlanEffectiveDate                    object\n",
       "PlanExpirationDate                   object\n",
       "PlanId                               object\n",
       "IssuerActuarialValue                 object\n",
       "IsHSAEligible                        object\n",
       "dtype: object"
      ]
     },
     "execution_count": 49,
     "metadata": {},
     "output_type": "execute_result"
    }
   ],
   "source": [
    "Plan_Attributes.dtypes"
   ]
  },
  {
   "cell_type": "code",
   "execution_count": 47,
   "metadata": {},
   "outputs": [],
   "source": [
    "Plan_Attributes_prueba = Plan_Attributes[[\"StateCode\", \"IssuerId\", \"IssuerMarketPlaceMarketingName\", \"MarketCoverage\", \"StandardComponentId\"]]\n",
    "Plan_Attributes = Plan_Attributes.drop(columns = ['SourceName'])"
   ]
  },
  {
   "cell_type": "code",
   "execution_count": 52,
   "metadata": {},
   "outputs": [
    {
     "name": "stdout",
     "output_type": "stream",
     "text": [
      "\"StateCode\",\"IssuerId\",\"IssuerMarketPlaceMarketingName\",\"MarketCoverage\",\"StandardComponentId\",\"PlanMarketingName\",\"IsNewPlan\",\"PlanType\",\"MetalLevel\",\"ChildOnlyOffering\",\"DiseaseManagementProgramsOffered\",\"EHBPercentTotalPremium\",\"PlanEffectiveDate\",\"PlanExpirationDate\",\"PlanId\",\"IssuerActuarialValue\",\"IsHSAEligible\"\n",
      "execute_values() done\n"
     ]
    }
   ],
   "source": [
    "# establishing connection\n",
    "conn = psycopg2.connect(\n",
    "  database=\"proyectoBI\",\n",
    "  user='postgres', \n",
    "  password='admin', \n",
    "  host='localhost', \n",
    "  port= '5432'\n",
    ")\n",
    "sql = '''DELETE FROM public.\"planAttributes\";'''\n",
    "  \n",
    "#creating a cursor\n",
    "cursor = conn.cursor()\n",
    "cursor.execute(sql)\n",
    "conn.commit()\n",
    "data = Plan_Attributes\n",
    "# using the function defined\n",
    "execute_values(conn, data, 'public.\"planAttributes\"')\n",
    "conn.close()"
   ]
  }
 ],
 "metadata": {
  "kernelspec": {
   "display_name": ".venv",
   "language": "python",
   "name": "python3"
  },
  "language_info": {
   "codemirror_mode": {
    "name": "ipython",
    "version": 3
   },
   "file_extension": ".py",
   "mimetype": "text/x-python",
   "name": "python",
   "nbconvert_exporter": "python",
   "pygments_lexer": "ipython3",
   "version": "3.11.3"
  },
  "orig_nbformat": 4
 },
 "nbformat": 4,
 "nbformat_minor": 2
}
