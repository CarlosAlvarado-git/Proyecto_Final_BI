{
 "cells": [
  {
   "cell_type": "code",
   "execution_count": 1,
   "metadata": {},
   "outputs": [],
   "source": [
    "import pandas as pd\n",
    "import os\n",
    "import psycopg2\n",
    "\n",
    "\n",
    "#path = 'C:/GitHub/Proyecto_Final_BI/'\n",
    "path = \"\""
   ]
  },
  {
   "attachments": {},
   "cell_type": "markdown",
   "metadata": {},
   "source": [
    "Lectura de archivos"
   ]
  },
  {
   "cell_type": "code",
   "execution_count": 2,
   "metadata": {},
   "outputs": [
    {
     "name": "stderr",
     "output_type": "stream",
     "text": [
      "/var/folders/nc/msnr18q57_bfryvsdz5vb_w00000gn/T/ipykernel_2861/278177419.py:10: DtypeWarning: Columns (9,12,19) have mixed types. Specify dtype option on import or set low_memory=False.\n",
      "  df = pd.read_csv(filename)\n",
      "/var/folders/nc/msnr18q57_bfryvsdz5vb_w00000gn/T/ipykernel_2861/278177419.py:10: DtypeWarning: Columns (27,64,80,81,82,86,87,88,89,90,91,111,122,123,124,125,147,148) have mixed types. Specify dtype option on import or set low_memory=False.\n",
      "  df = pd.read_csv(filename)\n"
     ]
    }
   ],
   "source": [
    "# función dada en clase\n",
    "def load_data(filename):\n",
    "    \"\"\" Load dataset from filename\n",
    "    Args:\n",
    "        filename (string): Path to data\n",
    "        \n",
    "    Returns:\n",
    "        df (DataFrame): Dataset from file\n",
    "    \"\"\"\n",
    "    df = pd.read_csv(filename)\n",
    "    return df\n",
    "\n",
    "filename = os.path.join(path,'Benefits_Cost_Sharing_PUF.csv')\n",
    "Benefits_CostSharing = load_data(filename)\n",
    "\n",
    "filename = os.path.join(path,'Business_Rules_PUF.csv')\n",
    "Business_Rules = load_data(filename)\n",
    "\n",
    "filename = os.path.join(path,'Plan_Attributes_PUF.csv')\n",
    "Plan_Attributes = load_data(filename)\n",
    "\n",
    "filename = os.path.join(path,'Rate_PUF.csv')\n",
    "Rate = load_data(filename)"
   ]
  },
  {
   "cell_type": "code",
   "execution_count": 3,
   "metadata": {},
   "outputs": [
    {
     "data": {
      "text/plain": [
       "Index(['StateCode', 'IssuerId', 'SourceName', 'StandardComponentId', 'PlanId',\n",
       "       'BenefitName', 'CopayInnTier1', 'CopayInnTier2', 'CopayOutofNet',\n",
       "       'CoinsInnTier1', 'CoinsInnTier2', 'CoinsOutofNet', 'IsEHB', 'IsCovered',\n",
       "       'QuantLimitOnSvc', 'LimitQty', 'LimitUnit', 'Exclusions'],\n",
       "      dtype='object')"
      ]
     },
     "execution_count": 3,
     "metadata": {},
     "output_type": "execute_result"
    }
   ],
   "source": [
    "Benefits_CostSharing = Benefits_CostSharing[['StateCode', 'IssuerId', 'SourceName', 'StandardComponentId', 'PlanId', 'BenefitName', \n",
    "                                            'CopayInnTier1', 'CopayInnTier2', 'CopayOutofNet', 'CoinsInnTier1', 'CoinsInnTier2',\n",
    "                                            'CoinsOutofNet', 'IsEHB', 'IsCovered', 'QuantLimitOnSvc', 'LimitQty','LimitUnit', 'Exclusions']]\n",
    "Benefits_CostSharing.columns"
   ]
  },
  {
   "cell_type": "code",
   "execution_count": 5,
   "metadata": {},
   "outputs": [
    {
     "data": {
      "text/plain": [
       "Index(['StateCode', 'IssuerId', 'SourceName', 'MedicalDentalBoth',\n",
       "       'StandardComponentId', 'MaximumUnderageDependent',\n",
       "       'DependentMaximumAgRule', 'CohabitationRule', 'MarketCoverage',\n",
       "       'DentalOnlyPlan'],\n",
       "      dtype='object')"
      ]
     },
     "execution_count": 5,
     "metadata": {},
     "output_type": "execute_result"
    }
   ],
   "source": [
    "Business_Rules = Business_Rules[['StateCode', 'IssuerId', 'SourceName', 'MedicalDentalBoth', 'StandardComponentId',\n",
    "                                 'MaximumUnderageDependent','DependentMaximumAgRule','CohabitationRule', 'MarketCoverage',\n",
    "                                 'DentalOnlyPlan']]\n",
    "Business_Rules.columns"
   ]
  },
  {
   "cell_type": "code",
   "execution_count": 6,
   "metadata": {},
   "outputs": [
    {
     "data": {
      "text/plain": [
       "Index(['StateCode', 'IssuerId', 'IssuerMarketPlaceMarketingName', 'SourceName',\n",
       "       'MarketCoverage', 'StandardComponentId', 'PlanMarketingName',\n",
       "       'IsNewPlan', 'PlanType', 'MetalLevel', 'ChildOnlyOffering',\n",
       "       'DiseaseManagementProgramsOffered', 'EHBPercentTotalPremium',\n",
       "       'PlanEffectiveDate', 'PlanExpirationDate', 'PlanId',\n",
       "       'IssuerActuarialValue', 'IsHSAEligible'],\n",
       "      dtype='object')"
      ]
     },
     "execution_count": 6,
     "metadata": {},
     "output_type": "execute_result"
    }
   ],
   "source": [
    "Plan_Attributes = Plan_Attributes[['StateCode', 'IssuerId', 'IssuerMarketPlaceMarketingName', 'SourceName', \n",
    "                                   'MarketCoverage', 'StandardComponentId', 'PlanMarketingName', 'IsNewPlan',\n",
    "                                   'PlanType', 'MetalLevel', 'ChildOnlyOffering', 'DiseaseManagementProgramsOffered',\n",
    "                                   'EHBPercentTotalPremium', 'PlanEffectiveDate', 'PlanExpirationDate', 'PlanId',\n",
    "                                   'IssuerActuarialValue', 'IsHSAEligible']]\n",
    "Plan_Attributes.columns"
   ]
  },
  {
   "cell_type": "code",
   "execution_count": 7,
   "metadata": {},
   "outputs": [
    {
     "data": {
      "text/plain": [
       "Index(['StateCode', 'IssuerId', 'SourceName', 'PlanId', 'RatingAreaId',\n",
       "       'Tobacco', 'Age', 'IndividualRate', 'IndividualTobaccoRate', 'Couple',\n",
       "       'PrimarySubscriberAndOneDependent', 'PrimarySubscriberAndTwoDependents',\n",
       "       'PrimarySubscriberAndThreeOrMoreDependents', 'CoupleAndOneDependent',\n",
       "       'CoupleAndTwoDependents', 'CoupleAndThreeOrMoreDependents'],\n",
       "      dtype='object')"
      ]
     },
     "execution_count": 7,
     "metadata": {},
     "output_type": "execute_result"
    }
   ],
   "source": [
    "Rate = Rate[['StateCode', 'IssuerId', 'SourceName','PlanId', 'RatingAreaId',\n",
    "       'Tobacco', 'Age', 'IndividualRate', 'IndividualTobaccoRate', 'Couple',\n",
    "       'PrimarySubscriberAndOneDependent', 'PrimarySubscriberAndTwoDependents',\n",
    "       'PrimarySubscriberAndThreeOrMoreDependents', 'CoupleAndOneDependent',\n",
    "       'CoupleAndTwoDependents', 'CoupleAndThreeOrMoreDependents' ]]\n",
    "Rate.columns"
   ]
  },
  {
   "attachments": {},
   "cell_type": "markdown",
   "metadata": {},
   "source": [
    "La tabla de Business Rules PUF puede ser el primer filtro"
   ]
  },
  {
   "cell_type": "code",
   "execution_count": 8,
   "metadata": {},
   "outputs": [
    {
     "data": {
      "text/html": [
       "<div>\n",
       "<style scoped>\n",
       "    .dataframe tbody tr th:only-of-type {\n",
       "        vertical-align: middle;\n",
       "    }\n",
       "\n",
       "    .dataframe tbody tr th {\n",
       "        vertical-align: top;\n",
       "    }\n",
       "\n",
       "    .dataframe thead th {\n",
       "        text-align: right;\n",
       "    }\n",
       "</style>\n",
       "<table border=\"1\" class=\"dataframe\">\n",
       "  <thead>\n",
       "    <tr style=\"text-align: right;\">\n",
       "      <th></th>\n",
       "      <th>StateCode</th>\n",
       "      <th>IssuerId</th>\n",
       "      <th>SourceName</th>\n",
       "      <th>MedicalDentalBoth</th>\n",
       "      <th>StandardComponentId</th>\n",
       "      <th>MaximumUnderageDependent</th>\n",
       "      <th>DependentMaximumAgRule</th>\n",
       "      <th>CohabitationRule</th>\n",
       "      <th>MarketCoverage</th>\n",
       "      <th>DentalOnlyPlan</th>\n",
       "    </tr>\n",
       "  </thead>\n",
       "  <tbody>\n",
       "    <tr>\n",
       "      <th>0</th>\n",
       "      <td>AK</td>\n",
       "      <td>21989</td>\n",
       "      <td>HIOS</td>\n",
       "      <td>Dental</td>\n",
       "      <td>21989AK0030001</td>\n",
       "      <td>3</td>\n",
       "      <td>25</td>\n",
       "      <td>Child,No;Foster Child,No;Grandson or Granddaug...</td>\n",
       "      <td>Individual</td>\n",
       "      <td>Yes</td>\n",
       "    </tr>\n",
       "    <tr>\n",
       "      <th>1</th>\n",
       "      <td>AK</td>\n",
       "      <td>21989</td>\n",
       "      <td>HIOS</td>\n",
       "      <td>Dental</td>\n",
       "      <td>21989AK0030051</td>\n",
       "      <td>3</td>\n",
       "      <td>25</td>\n",
       "      <td>Child,No;Foster Child,No;Grandson or Granddaug...</td>\n",
       "      <td>SHOP (Small Group)</td>\n",
       "      <td>Yes</td>\n",
       "    </tr>\n",
       "  </tbody>\n",
       "</table>\n",
       "</div>"
      ],
      "text/plain": [
       "  StateCode  IssuerId SourceName MedicalDentalBoth StandardComponentId   \n",
       "0        AK     21989       HIOS            Dental      21989AK0030001  \\\n",
       "1        AK     21989       HIOS            Dental      21989AK0030051   \n",
       "\n",
       "  MaximumUnderageDependent DependentMaximumAgRule   \n",
       "0                        3                     25  \\\n",
       "1                        3                     25   \n",
       "\n",
       "                                    CohabitationRule      MarketCoverage   \n",
       "0  Child,No;Foster Child,No;Grandson or Granddaug...          Individual  \\\n",
       "1  Child,No;Foster Child,No;Grandson or Granddaug...  SHOP (Small Group)   \n",
       "\n",
       "  DentalOnlyPlan  \n",
       "0            Yes  \n",
       "1            Yes  "
      ]
     },
     "execution_count": 8,
     "metadata": {},
     "output_type": "execute_result"
    }
   ],
   "source": [
    "Business_Rules.head(2)"
   ]
  },
  {
   "cell_type": "code",
   "execution_count": 9,
   "metadata": {},
   "outputs": [
    {
     "data": {
      "text/plain": [
       "array(['AK', 'AL', 'AZ', 'FL', 'GA', 'IN', 'LA', 'MO', 'MS', 'NC', 'OK',\n",
       "       'TX', 'WI', 'IA', 'ND', 'SC', 'TN', 'WY', 'AR', 'DE', 'HI', 'IL',\n",
       "       'NE', 'NH', 'OH', 'KS', 'MI', 'MT', 'OR', 'SD', 'UT', 'VA', 'WV'],\n",
       "      dtype=object)"
      ]
     },
     "execution_count": 9,
     "metadata": {},
     "output_type": "execute_result"
    }
   ],
   "source": [
    "Business_Rules.StateCode.unique()"
   ]
  },
  {
   "attachments": {},
   "cell_type": "markdown",
   "metadata": {},
   "source": [
    "Virginia: 8642274 VA\n",
    "Arizona: 7276316 AZ\n",
    "Tennesse: 6975218 TN\n"
   ]
  },
  {
   "cell_type": "code",
   "execution_count": 12,
   "metadata": {},
   "outputs": [],
   "source": [
    "Business_Rules = Business_Rules[(Business_Rules.StateCode.isin(['TX','FL','IL','OH','NC','GA','MI','VA','AZ','TN'])) & (Business_Rules.DentalOnlyPlan == 'No')]"
   ]
  },
  {
   "cell_type": "code",
   "execution_count": 13,
   "metadata": {},
   "outputs": [
    {
     "data": {
      "text/plain": [
       "array(['AZ', 'FL', 'GA', 'NC', 'TX', 'TN', 'IL', 'OH', 'MI', 'VA'],\n",
       "      dtype=object)"
      ]
     },
     "execution_count": 13,
     "metadata": {},
     "output_type": "execute_result"
    }
   ],
   "source": [
    "Business_Rules.StateCode.unique()"
   ]
  },
  {
   "cell_type": "code",
   "execution_count": 14,
   "metadata": {},
   "outputs": [],
   "source": [
    "Rate = Rate[Rate.PlanId.isin(Business_Rules.StandardComponentId)]"
   ]
  },
  {
   "cell_type": "code",
   "execution_count": 15,
   "metadata": {},
   "outputs": [],
   "source": [
    "Plan_Attributes = Plan_Attributes[Plan_Attributes.StandardComponentId.isin(Business_Rules.StandardComponentId)]"
   ]
  },
  {
   "cell_type": "code",
   "execution_count": 16,
   "metadata": {},
   "outputs": [],
   "source": [
    "Benefits_CostSharing = Benefits_CostSharing[Benefits_CostSharing.StandardComponentId.isin(Business_Rules.StandardComponentId)]"
   ]
  },
  {
   "cell_type": "code",
   "execution_count": 17,
   "metadata": {},
   "outputs": [
    {
     "data": {
      "text/plain": [
       "(3838, 10)"
      ]
     },
     "execution_count": 17,
     "metadata": {},
     "output_type": "execute_result"
    }
   ],
   "source": [
    "Business_Rules.shape"
   ]
  },
  {
   "cell_type": "code",
   "execution_count": 18,
   "metadata": {},
   "outputs": [
    {
     "data": {
      "text/html": [
       "<div>\n",
       "<style scoped>\n",
       "    .dataframe tbody tr th:only-of-type {\n",
       "        vertical-align: middle;\n",
       "    }\n",
       "\n",
       "    .dataframe tbody tr th {\n",
       "        vertical-align: top;\n",
       "    }\n",
       "\n",
       "    .dataframe thead th {\n",
       "        text-align: right;\n",
       "    }\n",
       "</style>\n",
       "<table border=\"1\" class=\"dataframe\">\n",
       "  <thead>\n",
       "    <tr style=\"text-align: right;\">\n",
       "      <th></th>\n",
       "      <th>StateCode</th>\n",
       "      <th>IssuerId</th>\n",
       "      <th>SourceName</th>\n",
       "      <th>MedicalDentalBoth</th>\n",
       "      <th>StandardComponentId</th>\n",
       "      <th>MaximumUnderageDependent</th>\n",
       "      <th>DependentMaximumAgRule</th>\n",
       "      <th>MarketCoverage</th>\n",
       "      <th>DentalOnlyPlan</th>\n",
       "    </tr>\n",
       "  </thead>\n",
       "  <tbody>\n",
       "    <tr>\n",
       "      <th>135</th>\n",
       "      <td>AZ</td>\n",
       "      <td>13877</td>\n",
       "      <td>HIOS</td>\n",
       "      <td>Medical</td>\n",
       "      <td>13877AZ0070002</td>\n",
       "      <td>3</td>\n",
       "      <td>26</td>\n",
       "      <td>Individual</td>\n",
       "      <td>No</td>\n",
       "    </tr>\n",
       "    <tr>\n",
       "      <th>136</th>\n",
       "      <td>AZ</td>\n",
       "      <td>13877</td>\n",
       "      <td>HIOS</td>\n",
       "      <td>Medical</td>\n",
       "      <td>13877AZ0070003</td>\n",
       "      <td>3</td>\n",
       "      <td>26</td>\n",
       "      <td>Individual</td>\n",
       "      <td>No</td>\n",
       "    </tr>\n",
       "    <tr>\n",
       "      <th>137</th>\n",
       "      <td>AZ</td>\n",
       "      <td>13877</td>\n",
       "      <td>HIOS</td>\n",
       "      <td>Medical</td>\n",
       "      <td>13877AZ0070005</td>\n",
       "      <td>3</td>\n",
       "      <td>26</td>\n",
       "      <td>Individual</td>\n",
       "      <td>No</td>\n",
       "    </tr>\n",
       "    <tr>\n",
       "      <th>138</th>\n",
       "      <td>AZ</td>\n",
       "      <td>13877</td>\n",
       "      <td>HIOS</td>\n",
       "      <td>Medical</td>\n",
       "      <td>13877AZ0070006</td>\n",
       "      <td>3</td>\n",
       "      <td>26</td>\n",
       "      <td>Individual</td>\n",
       "      <td>No</td>\n",
       "    </tr>\n",
       "    <tr>\n",
       "      <th>139</th>\n",
       "      <td>AZ</td>\n",
       "      <td>13877</td>\n",
       "      <td>HIOS</td>\n",
       "      <td>Medical</td>\n",
       "      <td>13877AZ0070008</td>\n",
       "      <td>3</td>\n",
       "      <td>26</td>\n",
       "      <td>Individual</td>\n",
       "      <td>No</td>\n",
       "    </tr>\n",
       "    <tr>\n",
       "      <th>140</th>\n",
       "      <td>AZ</td>\n",
       "      <td>13877</td>\n",
       "      <td>HIOS</td>\n",
       "      <td>Medical</td>\n",
       "      <td>13877AZ0070011</td>\n",
       "      <td>3</td>\n",
       "      <td>26</td>\n",
       "      <td>Individual</td>\n",
       "      <td>No</td>\n",
       "    </tr>\n",
       "    <tr>\n",
       "      <th>141</th>\n",
       "      <td>AZ</td>\n",
       "      <td>13877</td>\n",
       "      <td>HIOS</td>\n",
       "      <td>Medical</td>\n",
       "      <td>13877AZ0070012</td>\n",
       "      <td>3</td>\n",
       "      <td>26</td>\n",
       "      <td>Individual</td>\n",
       "      <td>No</td>\n",
       "    </tr>\n",
       "    <tr>\n",
       "      <th>142</th>\n",
       "      <td>AZ</td>\n",
       "      <td>13877</td>\n",
       "      <td>HIOS</td>\n",
       "      <td>Medical</td>\n",
       "      <td>13877AZ0070013</td>\n",
       "      <td>3</td>\n",
       "      <td>26</td>\n",
       "      <td>Individual</td>\n",
       "      <td>No</td>\n",
       "    </tr>\n",
       "    <tr>\n",
       "      <th>143</th>\n",
       "      <td>AZ</td>\n",
       "      <td>13877</td>\n",
       "      <td>HIOS</td>\n",
       "      <td>Medical</td>\n",
       "      <td>13877AZ0070014</td>\n",
       "      <td>3</td>\n",
       "      <td>26</td>\n",
       "      <td>Individual</td>\n",
       "      <td>No</td>\n",
       "    </tr>\n",
       "    <tr>\n",
       "      <th>144</th>\n",
       "      <td>AZ</td>\n",
       "      <td>13877</td>\n",
       "      <td>HIOS</td>\n",
       "      <td>Medical</td>\n",
       "      <td>13877AZ0070017</td>\n",
       "      <td>3</td>\n",
       "      <td>26</td>\n",
       "      <td>Individual</td>\n",
       "      <td>No</td>\n",
       "    </tr>\n",
       "  </tbody>\n",
       "</table>\n",
       "</div>"
      ],
      "text/plain": [
       "    StateCode  IssuerId SourceName MedicalDentalBoth StandardComponentId   \n",
       "135        AZ     13877       HIOS           Medical      13877AZ0070002  \\\n",
       "136        AZ     13877       HIOS           Medical      13877AZ0070003   \n",
       "137        AZ     13877       HIOS           Medical      13877AZ0070005   \n",
       "138        AZ     13877       HIOS           Medical      13877AZ0070006   \n",
       "139        AZ     13877       HIOS           Medical      13877AZ0070008   \n",
       "140        AZ     13877       HIOS           Medical      13877AZ0070011   \n",
       "141        AZ     13877       HIOS           Medical      13877AZ0070012   \n",
       "142        AZ     13877       HIOS           Medical      13877AZ0070013   \n",
       "143        AZ     13877       HIOS           Medical      13877AZ0070014   \n",
       "144        AZ     13877       HIOS           Medical      13877AZ0070017   \n",
       "\n",
       "    MaximumUnderageDependent DependentMaximumAgRule MarketCoverage   \n",
       "135                        3                     26     Individual  \\\n",
       "136                        3                     26     Individual   \n",
       "137                        3                     26     Individual   \n",
       "138                        3                     26     Individual   \n",
       "139                        3                     26     Individual   \n",
       "140                        3                     26     Individual   \n",
       "141                        3                     26     Individual   \n",
       "142                        3                     26     Individual   \n",
       "143                        3                     26     Individual   \n",
       "144                        3                     26     Individual   \n",
       "\n",
       "    DentalOnlyPlan  \n",
       "135             No  \n",
       "136             No  \n",
       "137             No  \n",
       "138             No  \n",
       "139             No  \n",
       "140             No  \n",
       "141             No  \n",
       "142             No  \n",
       "143             No  \n",
       "144             No  "
      ]
     },
     "execution_count": 18,
     "metadata": {},
     "output_type": "execute_result"
    }
   ],
   "source": [
    "Business_Rules = Business_Rules.drop(columns=['CohabitationRule'])\n",
    "Business_Rules.head(10)"
   ]
  },
  {
   "cell_type": "code",
   "execution_count": 20,
   "metadata": {},
   "outputs": [
    {
     "data": {
      "text/plain": [
       "array(['0-14', '15', '16', '17', '18', '19', '20', '21', '22', '23', '24',\n",
       "       '25', '26', '27', '28', '29', '30', '31', '32', '33', '34', '35',\n",
       "       '36', '37', '38', '39', '40', '41', '42', '43', '44', '45', '46',\n",
       "       '47', '48', '49', '50', '51', '52', '53', '54', '55', '56', '57',\n",
       "       '58', '59', '60', '61', '62', '63', '64 and over'], dtype=object)"
      ]
     },
     "execution_count": 20,
     "metadata": {},
     "output_type": "execute_result"
    }
   ],
   "source": [
    "Rate.Age.unique()"
   ]
  },
  {
   "cell_type": "code",
   "execution_count": 16,
   "metadata": {},
   "outputs": [
    {
     "data": {
      "text/html": [
       "<div>\n",
       "<style scoped>\n",
       "    .dataframe tbody tr th:only-of-type {\n",
       "        vertical-align: middle;\n",
       "    }\n",
       "\n",
       "    .dataframe tbody tr th {\n",
       "        vertical-align: top;\n",
       "    }\n",
       "\n",
       "    .dataframe thead th {\n",
       "        text-align: right;\n",
       "    }\n",
       "</style>\n",
       "<table border=\"1\" class=\"dataframe\">\n",
       "  <thead>\n",
       "    <tr style=\"text-align: right;\">\n",
       "      <th></th>\n",
       "      <th>StateCode</th>\n",
       "      <th>StateName</th>\n",
       "    </tr>\n",
       "  </thead>\n",
       "  <tbody>\n",
       "    <tr>\n",
       "      <th>0</th>\n",
       "      <td>TX</td>\n",
       "      <td>Texas</td>\n",
       "    </tr>\n",
       "  </tbody>\n",
       "</table>\n",
       "</div>"
      ],
      "text/plain": [
       "  StateCode StateName\n",
       "0        TX     Texas"
      ]
     },
     "execution_count": 16,
     "metadata": {},
     "output_type": "execute_result"
    }
   ],
   "source": [
    "state = {'StateCode': [\"TX\"], 'StateName': [\"Texas\"]}\n",
    "state = pd.DataFrame(data=state)\n",
    "state"
   ]
  },
  {
   "cell_type": "code",
   "execution_count": 17,
   "metadata": {},
   "outputs": [
    {
     "data": {
      "text/plain": [
       "Index(['StateCode', 'IssuerId', 'SourceName', 'StandardComponentId', 'PlanId',\n",
       "       'BenefitName', 'CopayInnTier1', 'CopayInnTier2', 'CopayOutofNet',\n",
       "       'CoinsInnTier1', 'CoinsInnTier2', 'CoinsOutofNet', 'IsEHB', 'IsCovered',\n",
       "       'QuantLimitOnSvc', 'LimitQty', 'LimitUnit', 'Exclusions'],\n",
       "      dtype='object')"
      ]
     },
     "execution_count": 17,
     "metadata": {},
     "output_type": "execute_result"
    }
   ],
   "source": [
    "Benefits_CostSharing.columns"
   ]
  },
  {
   "cell_type": "code",
   "execution_count": 18,
   "metadata": {},
   "outputs": [
    {
     "data": {
      "text/plain": [
       "Index(['StateCode', 'IssuerId', 'IssuerMarketPlaceMarketingName', 'SourceName',\n",
       "       'MarketCoverage', 'StandardComponentId', 'PlanMarketingName',\n",
       "       'IsNewPlan', 'PlanType', 'MetalLevel', 'ChildOnlyOffering',\n",
       "       'DiseaseManagementProgramsOffered', 'EHBPercentTotalPremium',\n",
       "       'PlanEffectiveDate', 'PlanExpirationDate', 'PlanId',\n",
       "       'IssuerActuarialValue', 'IsHSAEligible'],\n",
       "      dtype='object')"
      ]
     },
     "execution_count": 18,
     "metadata": {},
     "output_type": "execute_result"
    }
   ],
   "source": [
    "Plan_Attributes.columns"
   ]
  },
  {
   "attachments": {},
   "cell_type": "markdown",
   "metadata": {},
   "source": [
    "Proceso de imputaciones"
   ]
  },
  {
   "cell_type": "code",
   "execution_count": 19,
   "metadata": {},
   "outputs": [
    {
     "data": {
      "text/plain": [
       "array(['Yes', nan], dtype=object)"
      ]
     },
     "execution_count": 19,
     "metadata": {},
     "output_type": "execute_result"
    }
   ],
   "source": [
    "Benefits_CostSharing.IsEHB.unique()"
   ]
  },
  {
   "cell_type": "code",
   "execution_count": 20,
   "metadata": {},
   "outputs": [],
   "source": [
    "Benefits_CostSharing = Benefits_CostSharing.fillna(\"No\")"
   ]
  },
  {
   "cell_type": "code",
   "execution_count": 21,
   "metadata": {},
   "outputs": [
    {
     "data": {
      "text/plain": [
       "array(['Yes', 'No'], dtype=object)"
      ]
     },
     "execution_count": 21,
     "metadata": {},
     "output_type": "execute_result"
    }
   ],
   "source": [
    "Benefits_CostSharing.IsEHB.unique()"
   ]
  },
  {
   "attachments": {},
   "cell_type": "markdown",
   "metadata": {},
   "source": [
    "Insert de tablas en la base de datos"
   ]
  },
  {
   "cell_type": "code",
   "execution_count": 22,
   "metadata": {},
   "outputs": [],
   "source": [
    "import psycopg2\n",
    "import psycopg2.extras as extras\n",
    "import pandas as pd\n",
    "\n",
    "\n",
    "def execute_values(conn, df, table):\n",
    "\n",
    "\ttuples = [tuple(x) for x in df.to_numpy()]\n",
    "\n",
    "\tcols = ','.join(list(df.columns))\n",
    "\tfinish = True\n",
    "\tcoma = 0\n",
    "\tcont = 0\n",
    "\tcols_final = '\"'\n",
    "\tcols += \",\"\n",
    "\twhile(finish):\n",
    "\t\tcoma = cols.find(\",\", cont)\n",
    "\t\tif coma == -1:\n",
    "\t\t\tfinish = False\n",
    "\t\t\tcols_final = cols_final[:-2]\n",
    "\t\telse:\n",
    "\t\t\tvar = cols[cont:coma]\n",
    "\t\t\tcont = coma + 1\n",
    "\t\t\tcols_final += var\n",
    "\t\t\tcols_final += '\",\"'\n",
    "\n",
    "\n",
    "\tprint(cols_final)\n",
    "\t# SQL query to execute\n",
    "\tquery = \"INSERT INTO %s(%s) VALUES %%s\" % (table, cols_final)\n",
    "\tcursor = conn.cursor()\n",
    "\ttry:\n",
    "\t\textras.execute_values(cursor, query, tuples)\n",
    "\t\tconn.commit()\n",
    "\texcept (Exception, psycopg2.DatabaseError) as error:\n",
    "\t\tprint(\"Error: %s\" % error)\n",
    "\t\tconn.rollback()\n",
    "\t\tcursor.close()\n",
    "\t\treturn 1\n",
    "\tprint(\"execute_values() done\")\n",
    "\tcursor.close()"
   ]
  },
  {
   "attachments": {},
   "cell_type": "markdown",
   "metadata": {},
   "source": [
    "Insert tabla State"
   ]
  },
  {
   "cell_type": "code",
   "execution_count": 23,
   "metadata": {},
   "outputs": [
    {
     "name": "stdout",
     "output_type": "stream",
     "text": [
      "\"StateCode\",\"StateName\"\n",
      "execute_values() done\n"
     ]
    }
   ],
   "source": [
    "# establishing connection\n",
    "conn = psycopg2.connect(\n",
    "  database=\"proyectoBI\",\n",
    "  user='postgres', \n",
    "  password='admin', \n",
    "  host='localhost', \n",
    "  port= '5432'\n",
    ")\n",
    "sql = '''DELETE FROM public.\"States\";'''\n",
    "  \n",
    "#creating a cursor\n",
    "cursor = conn.cursor()\n",
    "cursor.execute(sql)\n",
    "conn.commit()\n",
    "data = state\n",
    "# using the function defined\n",
    "execute_values(conn, data, 'public.\"States\"')\n",
    "conn.close()"
   ]
  },
  {
   "attachments": {},
   "cell_type": "markdown",
   "metadata": {},
   "source": [
    "Insert tabla Bussiness Rules"
   ]
  },
  {
   "cell_type": "code",
   "execution_count": 32,
   "metadata": {},
   "outputs": [],
   "source": [
    "Business_Rules_prueba = Business_Rules[[\"StateCode\", \"IssuerId\", \"MedicalDentalBoth\",\"StandardComponentId\"]]\n",
    "Business_Rules = Business_Rules.drop(columns=['SourceName'])"
   ]
  },
  {
   "cell_type": "code",
   "execution_count": 34,
   "metadata": {},
   "outputs": [
    {
     "name": "stdout",
     "output_type": "stream",
     "text": [
      "\"StateCode\",\"IssuerId\",\"MedicalDentalBoth\",\"StandardComponentId\",\"MaximumUnderageDependent\",\"DependentMaximumAgRule\",\"MarketCoverage\",\"DentalOnlyPlan\"\n",
      "execute_values() done\n"
     ]
    }
   ],
   "source": [
    "# establishing connection\n",
    "conn = psycopg2.connect(\n",
    "  database=\"proyectoBI\",\n",
    "  user='postgres', \n",
    "  password='admin', \n",
    "  host='localhost', \n",
    "  port= '5432'\n",
    ")\n",
    "sql = '''DELETE FROM public.\"businessRules\";'''\n",
    "  \n",
    "#creating a cursor\n",
    "cursor = conn.cursor()\n",
    "cursor.execute(sql)\n",
    "conn.commit()\n",
    "data = Business_Rules\n",
    "# using the function defined\n",
    "execute_values(conn, data, 'public.\"businessRules\"')\n",
    "conn.close()"
   ]
  },
  {
   "attachments": {},
   "cell_type": "markdown",
   "metadata": {},
   "source": [
    "Insert tabla Benefits_CostSharing"
   ]
  },
  {
   "cell_type": "code",
   "execution_count": 36,
   "metadata": {},
   "outputs": [],
   "source": [
    "Benefits_CostSharing_prueba = Benefits_CostSharing[[\"StateCode\", \"IssuerId\", \"StandardComponentId\", \"PlanId\"]]\n",
    "Benefits_CostSharing = Benefits_CostSharing.drop(columns=['SourceName'])"
   ]
  },
  {
   "cell_type": "code",
   "execution_count": 38,
   "metadata": {},
   "outputs": [
    {
     "name": "stdout",
     "output_type": "stream",
     "text": [
      "\"StateCode\",\"IssuerId\",\"StandardComponentId\",\"PlanId\",\"BenefitName\",\"CopayInnTier1\",\"CopayInnTier2\",\"CopayOutofNet\",\"CoinsInnTier1\",\"CoinsInnTier2\",\"CoinsOutofNet\",\"IsEHB\",\"IsCovered\",\"QuantLimitOnSvc\",\"LimitQty\",\"LimitUnit\",\"Exclusions\"\n",
      "execute_values() done\n"
     ]
    }
   ],
   "source": [
    "# establishing connection\n",
    "conn = psycopg2.connect(\n",
    "  database=\"proyectoBI\",\n",
    "  user='postgres', \n",
    "  password='admin', \n",
    "  host='localhost', \n",
    "  port= '5432'\n",
    ")\n",
    "sql = '''DELETE FROM public.\"benefitsCostSharing\";'''\n",
    "  \n",
    "#creating a cursor\n",
    "cursor = conn.cursor()\n",
    "cursor.execute(sql)\n",
    "conn.commit()\n",
    "data = Benefits_CostSharing\n",
    "# using the function defined\n",
    "execute_values(conn, data, 'public.\"benefitsCostSharing\"')\n",
    "conn.close()"
   ]
  },
  {
   "attachments": {},
   "cell_type": "markdown",
   "metadata": {},
   "source": [
    "Insert tabla Rate"
   ]
  },
  {
   "cell_type": "code",
   "execution_count": 43,
   "metadata": {},
   "outputs": [
    {
     "data": {
      "text/plain": [
       "Index(['StateCode', 'IssuerId', 'PlanId', 'RatingAreaId', 'Tobacco', 'Age',\n",
       "       'IndividualRate', 'IndividualTobaccoRate', 'Couple',\n",
       "       'PrimarySubscriberAndOneDependent', 'PrimarySubscriberAndTwoDependents',\n",
       "       'PrimarySubscriberAndThreeOrMoreDependents', 'CoupleAndOneDependent',\n",
       "       'CoupleAndTwoDependents', 'CoupleAndThreeOrMoreDependents'],\n",
       "      dtype='object')"
      ]
     },
     "execution_count": 43,
     "metadata": {},
     "output_type": "execute_result"
    }
   ],
   "source": [
    "Rate.columns"
   ]
  },
  {
   "cell_type": "code",
   "execution_count": 42,
   "metadata": {},
   "outputs": [
    {
     "data": {
      "text/plain": [
       "StateCode                                     object\n",
       "IssuerId                                       int64\n",
       "PlanId                                        object\n",
       "RatingAreaId                                  object\n",
       "Tobacco                                       object\n",
       "Age                                           object\n",
       "IndividualRate                               float64\n",
       "IndividualTobaccoRate                        float64\n",
       "Couple                                       float64\n",
       "PrimarySubscriberAndOneDependent             float64\n",
       "PrimarySubscriberAndTwoDependents            float64\n",
       "PrimarySubscriberAndThreeOrMoreDependents    float64\n",
       "CoupleAndOneDependent                        float64\n",
       "CoupleAndTwoDependents                       float64\n",
       "CoupleAndThreeOrMoreDependents               float64\n",
       "dtype: object"
      ]
     },
     "execution_count": 42,
     "metadata": {},
     "output_type": "execute_result"
    }
   ],
   "source": [
    "Rate.dtypes"
   ]
  },
  {
   "cell_type": "code",
   "execution_count": 40,
   "metadata": {},
   "outputs": [],
   "source": [
    "Rate_prueba = Rate[[\"StateCode\", \"IssuerId\", \"PlanId\"]]\n",
    "Rate = Rate.drop(columns=['SourceName'])"
   ]
  },
  {
   "cell_type": "code",
   "execution_count": 53,
   "metadata": {},
   "outputs": [
    {
     "name": "stdout",
     "output_type": "stream",
     "text": [
      "\"StateCode\",\"IssuerId\",\"PlanId\",\"RatingAreaId\",\"Tobacco\",\"Age\",\"IndividualRate\",\"IndividualTobaccoRate\",\"Couple\",\"PrimarySubscriberAndOneDependent\",\"PrimarySubscriberAndTwoDependents\",\"PrimarySubscriberAndThreeOrMoreDependents\",\"CoupleAndOneDependent\",\"CoupleAndTwoDependents\",\"CoupleAndThreeOrMoreDependents\"\n",
      "execute_values() done\n"
     ]
    }
   ],
   "source": [
    "# establishing connection\n",
    "conn = psycopg2.connect(\n",
    "  database=\"proyectoBI\",\n",
    "  user='postgres', \n",
    "  password='admin', \n",
    "  host='localhost', \n",
    "  port= '5432'\n",
    ")\n",
    "sql = '''DELETE FROM public.\"Rate\";'''\n",
    "  \n",
    "#creating a cursor\n",
    "cursor = conn.cursor()\n",
    "cursor.execute(sql)\n",
    "conn.commit()\n",
    "data = Rate\n",
    "# using the function defined\n",
    "execute_values(conn, data, 'public.\"Rate\"')\n",
    "conn.close()"
   ]
  },
  {
   "attachments": {},
   "cell_type": "markdown",
   "metadata": {},
   "source": [
    "Insert tabla Plan Attributes"
   ]
  },
  {
   "cell_type": "code",
   "execution_count": 48,
   "metadata": {},
   "outputs": [
    {
     "data": {
      "text/plain": [
       "Index(['StateCode', 'IssuerId', 'IssuerMarketPlaceMarketingName',\n",
       "       'MarketCoverage', 'StandardComponentId', 'PlanMarketingName',\n",
       "       'IsNewPlan', 'PlanType', 'MetalLevel', 'ChildOnlyOffering',\n",
       "       'DiseaseManagementProgramsOffered', 'EHBPercentTotalPremium',\n",
       "       'PlanEffectiveDate', 'PlanExpirationDate', 'PlanId',\n",
       "       'IssuerActuarialValue', 'IsHSAEligible'],\n",
       "      dtype='object')"
      ]
     },
     "execution_count": 48,
     "metadata": {},
     "output_type": "execute_result"
    }
   ],
   "source": [
    "Plan_Attributes.columns"
   ]
  },
  {
   "cell_type": "code",
   "execution_count": 49,
   "metadata": {},
   "outputs": [
    {
     "data": {
      "text/plain": [
       "StateCode                            object\n",
       "IssuerId                              int64\n",
       "IssuerMarketPlaceMarketingName       object\n",
       "MarketCoverage                       object\n",
       "StandardComponentId                  object\n",
       "PlanMarketingName                    object\n",
       "IsNewPlan                            object\n",
       "PlanType                             object\n",
       "MetalLevel                           object\n",
       "ChildOnlyOffering                    object\n",
       "DiseaseManagementProgramsOffered     object\n",
       "EHBPercentTotalPremium              float64\n",
       "PlanEffectiveDate                    object\n",
       "PlanExpirationDate                   object\n",
       "PlanId                               object\n",
       "IssuerActuarialValue                 object\n",
       "IsHSAEligible                        object\n",
       "dtype: object"
      ]
     },
     "execution_count": 49,
     "metadata": {},
     "output_type": "execute_result"
    }
   ],
   "source": [
    "Plan_Attributes.dtypes"
   ]
  },
  {
   "cell_type": "code",
   "execution_count": 47,
   "metadata": {},
   "outputs": [],
   "source": [
    "Plan_Attributes_prueba = Plan_Attributes[[\"StateCode\", \"IssuerId\", \"IssuerMarketPlaceMarketingName\", \"MarketCoverage\", \"StandardComponentId\"]]\n",
    "Plan_Attributes = Plan_Attributes.drop(columns = ['SourceName'])"
   ]
  },
  {
   "cell_type": "code",
   "execution_count": 52,
   "metadata": {},
   "outputs": [
    {
     "name": "stdout",
     "output_type": "stream",
     "text": [
      "\"StateCode\",\"IssuerId\",\"IssuerMarketPlaceMarketingName\",\"MarketCoverage\",\"StandardComponentId\",\"PlanMarketingName\",\"IsNewPlan\",\"PlanType\",\"MetalLevel\",\"ChildOnlyOffering\",\"DiseaseManagementProgramsOffered\",\"EHBPercentTotalPremium\",\"PlanEffectiveDate\",\"PlanExpirationDate\",\"PlanId\",\"IssuerActuarialValue\",\"IsHSAEligible\"\n",
      "execute_values() done\n"
     ]
    }
   ],
   "source": [
    "# establishing connection\n",
    "conn = psycopg2.connect(\n",
    "  database=\"proyectoBI\",\n",
    "  user='postgres', \n",
    "  password='admin', \n",
    "  host='localhost', \n",
    "  port= '5432'\n",
    ")\n",
    "sql = '''DELETE FROM public.\"planAttributes\";'''\n",
    "  \n",
    "#creating a cursor\n",
    "cursor = conn.cursor()\n",
    "cursor.execute(sql)\n",
    "conn.commit()\n",
    "data = Plan_Attributes\n",
    "# using the function defined\n",
    "execute_values(conn, data, 'public.\"planAttributes\"')\n",
    "conn.close()"
   ]
  }
 ],
 "metadata": {
  "kernelspec": {
   "display_name": ".venv",
   "language": "python",
   "name": "python3"
  },
  "language_info": {
   "codemirror_mode": {
    "name": "ipython",
    "version": 3
   },
   "file_extension": ".py",
   "mimetype": "text/x-python",
   "name": "python",
   "nbconvert_exporter": "python",
   "pygments_lexer": "ipython3",
   "version": "3.11.3"
  },
  "orig_nbformat": 4
 },
 "nbformat": 4,
 "nbformat_minor": 2
}
